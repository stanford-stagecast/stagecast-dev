{
 "cells": [
  {
   "cell_type": "markdown",
   "id": "98140879",
   "metadata": {},
   "source": [
    "TL;DL\n",
    "\n",
    "Do NOT use clustering LSH!!!!"
   ]
  },
  {
   "cell_type": "code",
   "execution_count": 1,
   "id": "240fe288",
   "metadata": {},
   "outputs": [],
   "source": [
    "import numpy as np\n",
    "import pandas as pd\n",
    "import matplotlib.pyplot as plt\n",
    "import matplotlib.patches as mpatches\n",
    "\n",
    "# import os\n",
    "import re\n",
    "# import math\n",
    "import time\n",
    "# import timeit\n",
    "\n",
    "import sounddevice as sd\n",
    "from scipy.io import wavfile\n",
    "# import IPython.display as ipd\n",
    "# import soundfile as sf\n",
    "\n",
    "from multiprocess import Pool\n",
    "import functools\n",
    "import pdb\n",
    "\n",
    "import sys\n",
    "sys.path.insert(1, './functions')\n",
    "\n",
    "from workflow import *\n",
    "from read import *\n",
    "from musicalLSH import *\n",
    "from helper import *\n",
    "from display import *"
   ]
  },
  {
   "cell_type": "code",
   "execution_count": 50,
   "id": "953c0c9b",
   "metadata": {},
   "outputs": [],
   "source": [
    "# Setting up parameters to run the matching algorithm\n",
    "\n",
    "midiPath = './ladispute.txt'\n",
    "notes = midi_to_timeseries(midiPath)\n",
    "\n",
    "# hyperparameters\n",
    "zero_penalty = 1\n",
    "length_incentive = 500000 # 50 seconds yields 10% increase in score\n",
    "max_offset = 600\n",
    "timestamp_max_before_source = 5000 #ms behing the source timestamp\n",
    "min_dist_const = 400 # acceptable time difference for same note\n",
    "initial_alignment = \"last note in source to match in target\"\n",
    "realignment = \"mean offset of notes within max_offset dist - done once\"\n",
    "note_scoring = \"penalize within min_dist\"\n",
    "\n",
    "# parameters\n",
    "minNotes = 8\n",
    "maxNotes = 8 # max length of snippet to be calculated\n",
    "minTime = 1500 # min time in ms\n",
    "maxTime = 30000 # if more matches, increase snippet length\n",
    "thresh = 0.7\n",
    "start = 191400\n",
    "skip = 10\n",
    "end = 191430\n",
    "# end = 365000\n",
    "n = 3\n",
    "k = 20\n",
    "# k = 1000\n",
    "\n",
    "\n"
   ]
  },
  {
   "cell_type": "code",
   "execution_count": 29,
   "id": "076bd946",
   "metadata": {},
   "outputs": [],
   "source": [
    "permutation = [(randint(0, sys.maxsize), randint(0, sys.maxsize)) for i in range(128)]"
   ]
  },
  {
   "cell_type": "code",
   "execution_count": 15,
   "id": "8e057f9b",
   "metadata": {},
   "outputs": [
    {
     "data": {
      "text/plain": [
       "(array([55, 51, 67, 53, 65, 60, 56, 56]),\n",
       " array([51, 67, 53, 65, 60, 56, 56, 53]),\n",
       " numpy.ndarray)"
      ]
     },
     "execution_count": 15,
     "metadata": {},
     "output_type": "execute_result"
    }
   ],
   "source": [
    "# hashed_notes = get_notes_hashes(notes[:,1], n, permutation, minNotes, maxNotes)\n",
    "data1, data2 = notes[100:108][:,1], notes[101:109][:,1]\n",
    "data1, data2, type(data1)"
   ]
  },
  {
   "cell_type": "code",
   "execution_count": 55,
   "id": "49ceba03",
   "metadata": {},
   "outputs": [],
   "source": [
    "previous_clusters = dict() # key: feature vector\n",
    "                           # value: (index, length, hash)\n",
    "threshold_to_add_into_cluster = 0.95"
   ]
  },
  {
   "cell_type": "code",
   "execution_count": 6,
   "id": "49fec446",
   "metadata": {},
   "outputs": [],
   "source": [
    "def addToCluster(data: np.ndarray, index: int):\n",
    "    h = tuple(get_hash(data, n, len(data), permutation)[0])\n",
    "    # directly add a new cluster and return\n",
    "    if len(previous_clusters) == 0:\n",
    "        previous_clusters[h] = {(index, len(data), h)}\n",
    "    else:\n",
    "        # traverse all previous clusters to get the scores\n",
    "        keys = list(previous_clusters.keys())\n",
    "        scores = [1 - cosine(cluster, h) for cluster in keys]\n",
    "\n",
    "        # add a new cluster\n",
    "        if max(scores) < threshold_to_add_into_cluster:\n",
    "            previous_clusters[h] = {(index, len(data), h)}\n",
    "        # add to original cluster\n",
    "        else:\n",
    "            max_cluster = keys[scores.index(max(scores))]\n",
    "            previous_clusters[max_cluster].add((index, len(data), h))"
   ]
  },
  {
   "cell_type": "code",
   "execution_count": 56,
   "id": "6a54087c",
   "metadata": {},
   "outputs": [],
   "source": [
    "# 0,191400,10\n",
    "for i in range(0, 758+1):\n",
    "    for l in range(minNotes, maxNotes + 1):\n",
    "        data = notes[i:i+l+1][:,1]\n",
    "        addToCluster(data, i+l)"
   ]
  },
  {
   "cell_type": "code",
   "execution_count": 57,
   "id": "b4873411",
   "metadata": {},
   "outputs": [
    {
     "data": {
      "text/plain": [
       "8"
      ]
     },
     "execution_count": 57,
     "metadata": {},
     "output_type": "execute_result"
    }
   ],
   "source": [
    "len(previous_clusters.keys())"
   ]
  },
  {
   "cell_type": "code",
   "execution_count": 9,
   "id": "afcdca21",
   "metadata": {},
   "outputs": [],
   "source": [
    "first_cluster = dict(previous_clusters)"
   ]
  },
  {
   "cell_type": "code",
   "execution_count": 10,
   "id": "0fa88338",
   "metadata": {},
   "outputs": [],
   "source": [
    "for i in range(759, 1514+1):\n",
    "    for l in range(minNotes, maxNotes + 1):\n",
    "        data = notes[i:i+l+1][:,1]\n",
    "        addToCluster(data, i)"
   ]
  },
  {
   "cell_type": "code",
   "execution_count": 11,
   "id": "5349f35d",
   "metadata": {},
   "outputs": [
    {
     "data": {
      "text/plain": [
       "12"
      ]
     },
     "execution_count": 11,
     "metadata": {},
     "output_type": "execute_result"
    }
   ],
   "source": [
    "len(previous_clusters.keys())"
   ]
  },
  {
   "cell_type": "code",
   "execution_count": null,
   "id": "95b5cc97",
   "metadata": {},
   "outputs": [],
   "source": [
    "def calculate_similarity_time_ori(notes,source_id,currTime,timestamp_max_before_source=5000,zero_penalty=1,length_incentive=500000,max_offset=600,min_dist_const=400,skip=100,disp=False):\n",
    "    \"\"\" Function that calls musical similarity on targets generated for a source_id.\n",
    "        Target snips start at every 100 ms, and has same time length as source.\n",
    "    \n",
    "    Args:\n",
    "        notes: list of all notes from a recording [[t,note,vel],[t,note,vel],[t,note,vel],...]\n",
    "        source_id: indices of note array corresponding to current time snippet (source_id_start>source_id_end) \n",
    "                   [source_id_start, source_id_end]\n",
    "        currTime: time stamp at which we are searching for matches (ms)\n",
    "        max_matches: optional param to state how many matches to stop after\n",
    "        skip: interval at which to iterate over target timestamps\n",
    "        disp: boolean whether to print each match (defaults True)\n",
    "    \n",
    "    Returns:\n",
    "        matches: list of matches [[currTime, pastTime1, score1], [currTime, pastTime2, score2],...] \n",
    "    \n",
    "    \"\"\"\n",
    "    matches = []\n",
    "    last_id_end = 0 # track previous end index of target\n",
    "    last_id_start = 0\n",
    "    source_id_start, source_id_end = source_id\n",
    "    source_end = notes[source_id_end][0] # start and end time stamps of source\n",
    "    length_ms = currTime - source_end #in milliseconds\n",
    "    \n",
    "    target_start = length_ms\n",
    "    while target_start < currTime-timestamp_max_before_source:\n",
    "        target_end = target_start - length_ms # pick target_end by time length of course snip\n",
    "        \n",
    "        # finding new end index\n",
    "        for i in range(last_id_end,len(notes)):\n",
    "            if notes[i][0] >= target_end:\n",
    "                target_id_end = i\n",
    "                break\n",
    "             \n",
    "        # finding new start index\n",
    "        for i in range(target_id_end,len(notes)):\n",
    "            if notes[i][0] > target_start:\n",
    "                target_id_start = i\n",
    "                break\n",
    "        if target_id_end > target_id_start-4:\n",
    "            last_id_end = target_id_end\n",
    "            last_id_start = target_id_start\n",
    "            target_start += skip\n",
    "            continue\n",
    "        if target_id_end == last_id_end and last_id_start == target_id_start:\n",
    "            target_start += skip\n",
    "            continue\n",
    "        \n",
    "        lm1,lm2,mo1,mo2,score = two_way_similarity(notes[source_id_end:source_id_start], notes[target_id_end:target_id_start],zero_penalty=zero_penalty,length_incentive=length_incentive,max_offset=max_offset,min_dist_const=min_dist_const,disp=disp)\n",
    "        \n",
    "        if score:\n",
    "            if score>0.7:\n",
    "#                 count += 1\n",
    "                # Dsiplaying matches > 0.7 if disp is True\n",
    "                if disp:\n",
    "                    display_snippet_plot(notes, source_id_start, source_id_end, target_id_start, target_id_end, score, source_end, notes[target_id_end][0])\n",
    "                    # play_match(piano_audio, currTime, source_end, target_start, target_end)\n",
    "                    # predict(notes, source_id_start, source_id_end, target_id_start, target_id_end, currTime, target_start)\n",
    "                    # time.sleep(5)\n",
    "            if score>0.5:\n",
    "                target_time = target_start\n",
    "                \n",
    "                # case 1 - good alignment of source snippet\n",
    "                if lm1 >= source_id_start - source_id_end - 2:\n",
    "                    target_time = notes[target_id_start-1][0] + int(mo2) + (currTime - notes[source_id_start-1][0])\n",
    "                \n",
    "                # case 2 - run again with target slightly ahead?\n",
    "                elif lm2 >= target_id_start - target_id_end - 2:\n",
    "                    if currTime - notes[source_id_end+lm1][0] < 1:\n",
    "                        print(\"oops something went wrong with time calculations - might end in infinite loop\")\n",
    "                    target_start += currTime - notes[source_id_end+lm1][0]\n",
    "                    continue\n",
    "                \n",
    "                # In all cases where good score and we do not rerun,\n",
    "                # Find optimal timestamp and store the match\n",
    "                target_time = notes[target_id_start-1][0] - int(mo2) + (currTime - notes[source_id_start-1][0])    \n",
    "                if target_time<currTime-timestamp_max_before_source:\n",
    "                    matches.append([currTime, target_time, score, source_id_start, source_id_end, time_to_index(notes, target_time), target_id_end])\n",
    "        \n",
    "        last_id_end = target_id_end\n",
    "        last_id_start = target_id_start\n",
    "        target_start += skip\n",
    "        \n",
    "    return matches\n"
   ]
  },
  {
   "cell_type": "code",
   "execution_count": 59,
   "id": "df9c8073",
   "metadata": {},
   "outputs": [],
   "source": [
    "def calculate_similarity_time(previous_clusters,notes,n,k,permutation,source_id,minNotes,currTime,max_matches=None,timestamp_max_before_source=5000,zero_penalty=1,length_incentive=500000,max_offset=600,min_dist_const=400,skip = 100,disp=False):\n",
    "    \"\"\" Function that calls musical similarity on targets generated for a source_id.\n",
    "        Target snips start at every 100 ms, and has same time length as source.\n",
    "    \n",
    "    Args:\n",
    "        notes: list of all notes from a recording [[t,note,vel],[t,note,vel],[t,note,vel],...]\n",
    "        source_id: indices of note array corresponding to current time snippet (source_id_start>source_id_end) \n",
    "                   [source_id_start, source_id_end]\n",
    "        currTime: time stamp at which we are searching for matches (ms)\n",
    "        max_matches: optional param to state how many matches to stop after\n",
    "        skip: interval at which to iterate over target timestamps\n",
    "        disp: boolean whether to print each match (defaults True)\n",
    "    \n",
    "    Returns:\n",
    "        matches: list of matches [[currTime, pastTime1, score1], [currTime, pastTime2, score2],...] \n",
    "    \n",
    "    \"\"\"\n",
    "#     find_from_clusters(hashed_source: np.ndarray, k: int)\n",
    "    matches = []\n",
    "    last_id_end = 0 # track previous end index of target\n",
    "    last_id_start = 0\n",
    "    source_id_start, source_id_end = source_id\n",
    "    source_end = notes[source_id_end][0] # start and end time stamps of source\n",
    "    length_ms = currTime - source_end #in milliseconds\n",
    "\n",
    "    sample = notes[source_id_end:source_id_start][:,1]\n",
    "    len_of_notes = len(sample)\n",
    "    source_hash = get_hash(sample, n, len_of_notes, permutation)[0]\n",
    "#     target_hash = hashed_notes[len_of_notes - minNotes][:source_id_end]\n",
    "    # print(\"source_id_start:{}, source_id_end:{}, target_id_start:{}, target_id_end:{}\".format(source_id_start, source_id_end, target_id_start, target_id_end))\n",
    "#     indices = get_k_highest_scores(target_hash, source_hash, k)\n",
    "    indices = find_from_clusters(source_hash, k)\n",
    "    dist = currTime - notes[source_id_start-1][0]\n",
    "    print('source_id_end: {}, source timestamp: {}, expected: {}'.format(source_id_end, currTime, currTime - 191400))\n",
    "    for target_id_end, length in indices:\n",
    "        print('target timestamp: {}, length: {}'.format(notes[target_id_end][0]+dist, length))\n",
    "    \n",
    "    target_start = length_ms\n",
    "    return matches\n",
    "\n",
    "    for target_id_end, length in indices:\n",
    "        # print(target_id_end)\n",
    "        target_id_start = target_id_end + length\n",
    "\n",
    "        lm1,lm2,mo1,mo2,score = two_way_similarity(notes[source_id_end:source_id_start], notes[target_id_end:target_id_start],zero_penalty=zero_penalty,length_incentive=length_incentive,max_offset=max_offset,min_dist_const=min_dist_const,disp=disp)\n",
    "\n",
    "        if score:\n",
    "            # if score>0.7:\n",
    "    #                 count += 1\n",
    "                # Dsiplaying matches > 0.7 if disp is True\n",
    "            if disp:\n",
    "                display_snippet_plot(notes, source_id_start, source_id_end, target_id_start, target_id_end, score, source_end, notes[target_id_end][0])\n",
    "                    # play_match(piano_audio, currTime, source_end, target_start, target_end)\n",
    "                    # predict(notes, source_id_start, source_id_end, target_id_start, target_id_end, currTime, target_start)\n",
    "                    # time.sleep(5)\n",
    "\n",
    "            # if score>0.5:\n",
    "            if True:\n",
    "                target_time = target_start\n",
    "                \n",
    "                # case 1 - good alignment of source snippet\n",
    "                if lm1 >= source_id_start - source_id_end - 2:\n",
    "                    target_time = notes[target_id_start-1][0] + int(mo2) + (currTime - notes[source_id_start-1][0])\n",
    "                \n",
    "                # case 2 - run again with target slightly ahead?\n",
    "                elif lm2 >= target_id_start - target_id_end - 2:\n",
    "                    if currTime - notes[source_id_end+lm1][0] < 1:\n",
    "                        print(\"oops something went wrong with time calculations - might end in infinite loop\")\n",
    "                    target_start += currTime - notes[source_id_end+lm1][0]\n",
    "                    continue\n",
    "            \n",
    "                # In all cases where good score and we do not rerun,\n",
    "                # Find optimal timestamp and store the match\n",
    "                target_time = notes[target_id_start-1][0] - int(mo2) + (currTime - notes[source_id_start-1][0])    \n",
    "                if target_time<currTime-5000:\n",
    "                    # print(\"source_id_start:{}, source_id_end:{}, target_id_start:{}, target_id_end:{}, score:{}\".format(source_id_start, source_id_end, target_id_start, target_id_end, score))\n",
    "                    matches.append([currTime, target_time, score, source_id_start, source_id_end, time_to_index(notes, target_time), target_id_end])\n",
    "\n",
    "    return matches\n",
    "\n",
    "def get_source_notes(notes, start_time, min_notes, max_notes, min_time):\n",
    "    \"\"\" Function that ...\n",
    "    \n",
    "    Args:\n",
    "        notes: array of all notes in a recording, where each note is [t,note,vel]\n",
    "        start_time: start index of notes array - corresponding to current time\n",
    "        min_notes: min number of notes for a valid sequence, integer\n",
    "        max_notes: max note length for a snippet, integer\n",
    "        min_time: min time length for a valid sequence, integer (ms)\\\n",
    "    \n",
    "    Returns:\n",
    "        matches: list of matches [[currTime, pastTime1, score1], [currTime, pastTime2, score2],...] \n",
    "    \n",
    "    \"\"\"\n",
    "    start_index = np.argwhere(notes[:,0] > start_time)\n",
    "    if start_index.any():\n",
    "        start_index = start_index[0]\n",
    "    else:\n",
    "        print(\"Error: Start time too large\")\n",
    "        return np.array([None,None])\n",
    "    \n",
    "    if start_index<min_notes:\n",
    "        return np.array([None,None])\n",
    "    \n",
    "    end_index = np.arange(start_index-min_notes, start_index - max_notes - 1, -1)\n",
    "    ids = (start_time - notes[end_index,0] >= min_time) * end_index\n",
    "    ids = ids[np.nonzero(ids)]\n",
    "    if ids.any():\n",
    "        source_id = np.array([start_index[0],ids[0]])\n",
    "        return source_id\n",
    "        \n",
    "    return np.array([None,None])\n",
    "\n",
    "def find_matches_at_timestamp(i,n,k,previous_clusters,permutation,notes,minNotes,minTime,maxNotes,maxTime,thresh,timestamp_max_before_source=5000,zero_penalty=1,length_incentive=500000,max_offset=600,min_dist_const=400,disp=False):\n",
    "    \"\"\"Function that finds similarity from lengths minNotes to maxNotes ...\n",
    "    \n",
    "    Args:\n",
    "        i:\n",
    "        notes:\n",
    "        minNotes:\n",
    "        minTime:\n",
    "        maxNotes:\n",
    "        maxTime:\n",
    "        thresh:\n",
    "        disp:\n",
    "    \n",
    "    Returns:\n",
    "        sims_arr: np array of every match >0.5 found of the form -\n",
    "            ['source_timestamp', 'target_timestamp','score',\n",
    "            'source_id_start','source_id_end','target_id_start','target_id_end','match_len','match_time']\n",
    "    \n",
    "    \"\"\"\n",
    "    sims_arr = []\n",
    "    print(\"\\n\",end=\"\")\n",
    "    print(\"i:\",i,end=\"   \")\n",
    "    offset = 500\n",
    "    numSourceNotes = 0\n",
    "    sourceTime = 0\n",
    "    while sourceTime < maxTime and numSourceNotes < maxNotes:\n",
    "        sourceId = get_source_notes(notes, i, minNotes, maxNotes, sourceTime+offset)\n",
    "        if not sourceId.any():\n",
    "            break\n",
    "\n",
    "        # num notes in source snippet\n",
    "        numSourceNotes = (sourceId[0] - sourceId[1])\n",
    "        # total time in ms in source snippet\n",
    "        sourceTime = i - notes[sourceId[1]][0]\n",
    "        \n",
    "        sim = calculate_similarity_time(previous_clusters,notes,n,k,permutation,sourceId,minNotes,i,timestamp_max_before_source=timestamp_max_before_source,zero_penalty=zero_penalty,length_incentive=length_incentive,max_offset=max_offset,min_dist_const=min_dist_const,disp=disp)\n",
    "        for match in sim:\n",
    "            match.append(numSourceNotes)\n",
    "            match.append(sourceTime)\n",
    "        sims_arr.extend(sim)\n",
    "        offset += 500\n",
    "\n",
    "    return np.array(sims_arr)\n",
    "\n"
   ]
  },
  {
   "cell_type": "code",
   "execution_count": 18,
   "id": "394c5f29",
   "metadata": {},
   "outputs": [],
   "source": [
    "temp_cluster_dict = dict(previous_clusters)"
   ]
  },
  {
   "cell_type": "code",
   "execution_count": null,
   "id": "f7024c79",
   "metadata": {},
   "outputs": [],
   "source": []
  },
  {
   "cell_type": "code",
   "execution_count": 52,
   "id": "6d6bea19",
   "metadata": {},
   "outputs": [],
   "source": [
    "start = 200000\n",
    "end = 220000\n",
    "skip = 1000"
   ]
  },
  {
   "cell_type": "code",
   "execution_count": 19,
   "id": "457e190b",
   "metadata": {},
   "outputs": [],
   "source": [
    "def find_from_clusters(hashed_source: np.ndarray, k: int):\n",
    "    # find cluster\n",
    "    keys = list(previous_clusters.keys())\n",
    "    scores = [1 - cosine(cluster, hashed_source) for cluster in keys]\n",
    "    ind = scores.index(max(scores))\n",
    "    snippets = list(previous_clusters[keys[ind]])\n",
    "    \n",
    "    # find snippet\n",
    "    scores = [1 - cosine(snippet, hashed_source) for _, _, snippet in snippets]\n",
    "    k_snippets = list(reversed(np.argsort(scores)[-k:]))\n",
    "    \n",
    "    return [(snippets[i][0], snippets[i][1]) for i in k_snippets]"
   ]
  },
  {
   "cell_type": "code",
   "execution_count": 60,
   "id": "a9428f6e",
   "metadata": {},
   "outputs": [
    {
     "data": {
      "text/plain": [
       "(200000, 220000, 1000)"
      ]
     },
     "execution_count": 60,
     "metadata": {},
     "output_type": "execute_result"
    }
   ],
   "source": [
    "start, end, skip"
   ]
  },
  {
   "cell_type": "code",
   "execution_count": 61,
   "id": "6d7fed6c",
   "metadata": {},
   "outputs": [
    {
     "name": "stdout",
     "output_type": "stream",
     "text": [
      "\n",
      "i: 200000   source_id_end: 781, source timestamp: 200000, expected: 8600\n",
      "target timestamp: 104907, length: 9\n",
      "target timestamp: 115717, length: 9\n",
      "target timestamp: 104063, length: 9\n",
      "target timestamp: 8570, length: 9\n",
      "target timestamp: 9140, length: 9\n",
      "target timestamp: 9126, length: 9\n",
      "target timestamp: 58409, length: 9\n",
      "target timestamp: 58417, length: 9\n",
      "target timestamp: 9777, length: 9\n",
      "target timestamp: 8568, length: 9\n",
      "target timestamp: 114820, length: 9\n",
      "target timestamp: 119011, length: 9\n",
      "target timestamp: 19337, length: 9\n",
      "target timestamp: 118395, length: 9\n",
      "target timestamp: 118967, length: 9\n",
      "target timestamp: 118715, length: 9\n",
      "target timestamp: 57802, length: 9\n",
      "target timestamp: 51209, length: 9\n",
      "target timestamp: 58395, length: 9\n",
      "target timestamp: 57839, length: 9\n",
      "\n",
      "i: 201000   source_id_end: 785, source timestamp: 201000, expected: 9600\n",
      "target timestamp: 54636, length: 9\n",
      "target timestamp: 2993, length: 9\n",
      "target timestamp: 102058, length: 9\n",
      "target timestamp: 102330, length: 9\n",
      "target timestamp: 101751, length: 9\n",
      "target timestamp: 17436, length: 9\n",
      "target timestamp: 31892, length: 9\n",
      "target timestamp: 103225, length: 9\n",
      "target timestamp: 102638, length: 9\n",
      "target timestamp: 102934, length: 9\n",
      "target timestamp: 103523, length: 9\n",
      "target timestamp: 17425, length: 9\n",
      "target timestamp: 104721, length: 9\n",
      "target timestamp: 3616, length: 9\n",
      "target timestamp: 2981, length: 9\n",
      "target timestamp: 194384, length: 9\n",
      "target timestamp: 9591, length: 9\n",
      "target timestamp: 3643, length: 9\n",
      "target timestamp: 4082, length: 9\n",
      "target timestamp: 105031, length: 9\n",
      "\n",
      "i: 202000   source_id_end: 788, source timestamp: 202000, expected: 10600\n",
      "target timestamp: 60971, length: 9\n",
      "target timestamp: 60986, length: 9\n",
      "target timestamp: 60395, length: 9\n",
      "target timestamp: 104840, length: 9\n",
      "target timestamp: 25403, length: 9\n",
      "target timestamp: 35787, length: 9\n",
      "target timestamp: 6968, length: 9\n",
      "target timestamp: 24393, length: 9\n",
      "target timestamp: 7178, length: 9\n",
      "target timestamp: 7254, length: 9\n",
      "target timestamp: 24962, length: 9\n",
      "target timestamp: 24977, length: 9\n",
      "target timestamp: 35255, length: 9\n",
      "target timestamp: 32788, length: 9\n",
      "target timestamp: 9979, length: 9\n",
      "target timestamp: 61221, length: 9\n",
      "target timestamp: 6952, length: 9\n",
      "target timestamp: 29868, length: 9\n",
      "target timestamp: 60383, length: 9\n",
      "target timestamp: 30373, length: 9\n",
      "\n",
      "i: 203000   source_id_end: 791, source timestamp: 203000, expected: 11600\n",
      "target timestamp: 26598, length: 9\n",
      "target timestamp: 27169, length: 9\n",
      "target timestamp: 38599, length: 9\n",
      "target timestamp: 38010, length: 9\n",
      "target timestamp: 41017, length: 9\n",
      "target timestamp: 98017, length: 9\n",
      "target timestamp: 26562, length: 9\n",
      "target timestamp: 38002, length: 9\n",
      "target timestamp: 27545, length: 9\n",
      "target timestamp: 37397, length: 9\n",
      "target timestamp: 41019, length: 9\n",
      "target timestamp: 41591, length: 9\n",
      "target timestamp: 37416, length: 9\n",
      "target timestamp: 41559, length: 9\n",
      "target timestamp: 42161, length: 9\n",
      "target timestamp: 42859, length: 9\n",
      "target timestamp: 36853, length: 9\n",
      "target timestamp: 96185, length: 9\n",
      "target timestamp: 95902, length: 9\n",
      "target timestamp: 95624, length: 9\n",
      "\n",
      "i: 204000   source_id_end: 795, source timestamp: 204000, expected: 12600\n",
      "target timestamp: 37193, length: 9\n",
      "target timestamp: 37174, length: 9\n",
      "target timestamp: 37779, length: 9\n",
      "target timestamp: 36630, length: 9\n",
      "target timestamp: 97794, length: 9\n",
      "target timestamp: 37787, length: 9\n",
      "target timestamp: 38376, length: 9\n",
      "target timestamp: 41336, length: 9\n",
      "target timestamp: 26946, length: 9\n",
      "target timestamp: 26339, length: 9\n",
      "target timestamp: 40794, length: 9\n",
      "target timestamp: 26375, length: 9\n",
      "target timestamp: 41368, length: 9\n",
      "target timestamp: 40796, length: 9\n",
      "target timestamp: 27322, length: 9\n",
      "target timestamp: 42636, length: 9\n",
      "target timestamp: 41938, length: 9\n",
      "target timestamp: 95679, length: 9\n",
      "target timestamp: 95962, length: 9\n",
      "target timestamp: 95401, length: 9\n",
      "\n",
      "i: 205000   source_id_end: 798, source timestamp: 205000, expected: 13600\n",
      "target timestamp: 92803, length: 9\n",
      "target timestamp: 112057, length: 9\n",
      "target timestamp: 111461, length: 9\n",
      "target timestamp: 111700, length: 9\n",
      "target timestamp: 100030, length: 9\n",
      "target timestamp: 100341, length: 9\n",
      "target timestamp: 100608, length: 9\n",
      "target timestamp: 111120, length: 9\n",
      "target timestamp: 100937, length: 9\n",
      "target timestamp: 101243, length: 9\n",
      "target timestamp: 107498, length: 9\n",
      "target timestamp: 107794, length: 9\n",
      "target timestamp: 108435, length: 9\n",
      "target timestamp: 108062, length: 9\n",
      "target timestamp: 126447, length: 9\n",
      "target timestamp: 110819, length: 9\n",
      "target timestamp: 101248, length: 9\n",
      "target timestamp: 107244, length: 9\n",
      "target timestamp: 99729, length: 9\n",
      "target timestamp: 108448, length: 9\n",
      "\n",
      "i: 206000   source_id_end: 799, source timestamp: 206000, expected: 14600\n",
      "target timestamp: 57804, length: 9\n",
      "target timestamp: 57841, length: 9\n",
      "target timestamp: 58397, length: 9\n",
      "target timestamp: 118717, length: 9\n",
      "target timestamp: 118397, length: 9\n",
      "target timestamp: 118969, length: 9\n",
      "target timestamp: 51211, length: 9\n",
      "target timestamp: 87244, length: 9\n",
      "target timestamp: 86609, length: 9\n",
      "target timestamp: 86631, length: 9\n",
      "target timestamp: 7931, length: 9\n",
      "target timestamp: 7948, length: 9\n",
      "target timestamp: 126516, length: 9\n",
      "target timestamp: 126223, length: 9\n",
      "target timestamp: 125584, length: 9\n",
      "target timestamp: 115429, length: 9\n",
      "target timestamp: 129835, length: 9\n",
      "target timestamp: 122641, length: 9\n",
      "target timestamp: 122326, length: 9\n",
      "target timestamp: 130081, length: 9\n",
      "\n",
      "i: 207000   source_id_end: 802, source timestamp: 207000, expected: 15600\n",
      "target timestamp: 97402, length: 9\n",
      "target timestamp: 42604, length: 9\n",
      "target timestamp: 50963, length: 9\n",
      "target timestamp: 79775, length: 9\n",
      "target timestamp: 97759, length: 9\n",
      "target timestamp: 37744, length: 9\n",
      "target timestamp: 37752, length: 9\n",
      "target timestamp: 38341, length: 9\n",
      "target timestamp: 37139, length: 9\n",
      "target timestamp: 37158, length: 9\n",
      "target timestamp: 36595, length: 9\n",
      "target timestamp: 26911, length: 9\n",
      "target timestamp: 26340, length: 9\n",
      "target timestamp: 40761, length: 9\n",
      "target timestamp: 41333, length: 9\n",
      "target timestamp: 41301, length: 9\n",
      "target timestamp: 26304, length: 9\n",
      "target timestamp: 40759, length: 9\n",
      "target timestamp: 42601, length: 9\n",
      "target timestamp: 41903, length: 9\n",
      "\n",
      "i: 208000   source_id_end: 805, source timestamp: 208000, expected: 16600\n",
      "target timestamp: 97558, length: 9\n",
      "target timestamp: 36394, length: 9\n",
      "target timestamp: 97201, length: 9\n",
      "target timestamp: 36938, length: 9\n",
      "target timestamp: 36957, length: 9\n",
      "target timestamp: 37551, length: 9\n",
      "target timestamp: 37543, length: 9\n",
      "target timestamp: 42403, length: 9\n",
      "target timestamp: 38140, length: 9\n",
      "target timestamp: 27086, length: 9\n",
      "target timestamp: 41132, length: 9\n",
      "target timestamp: 40560, length: 9\n",
      "target timestamp: 26139, length: 9\n",
      "target timestamp: 26710, length: 9\n",
      "target timestamp: 41702, length: 9\n",
      "target timestamp: 42400, length: 9\n",
      "target timestamp: 41100, length: 9\n",
      "target timestamp: 40558, length: 9\n",
      "target timestamp: 26103, length: 9\n",
      "target timestamp: 95165, length: 9\n",
      "\n",
      "i: 209000   source_id_end: 807, source timestamp: 209000, expected: 17600\n",
      "target timestamp: 3099, length: 9\n",
      "target timestamp: 194502, length: 9\n",
      "target timestamp: 17543, length: 9\n",
      "target timestamp: 32010, length: 9\n",
      "target timestamp: 17554, length: 9\n",
      "target timestamp: 9709, length: 9\n",
      "target timestamp: 33085, length: 9\n",
      "target timestamp: 83555, length: 9\n",
      "target timestamp: 83557, length: 9\n",
      "target timestamp: 10308, length: 9\n",
      "target timestamp: 54754, length: 9\n",
      "target timestamp: 31342, length: 9\n",
      "target timestamp: 31325, length: 9\n",
      "target timestamp: 36754, length: 9\n",
      "target timestamp: 31972, length: 9\n",
      "target timestamp: 32527, length: 9\n",
      "target timestamp: 18145, length: 9\n",
      "target timestamp: 18536, length: 9\n",
      "target timestamp: 32945, length: 9\n",
      "target timestamp: 3111, length: 9\n",
      "\n",
      "i: 210000   source_id_end: 812, source timestamp: 210000, expected: 18600\n",
      "target timestamp: 34174, length: 9\n",
      "target timestamp: 34179, length: 9\n",
      "target timestamp: 92708, length: 9\n",
      "target timestamp: 34799, length: 9\n",
      "target timestamp: 33594, length: 9\n",
      "target timestamp: 92399, length: 9\n",
      "target timestamp: 33577, length: 9\n",
      "target timestamp: 38423, length: 9\n",
      "target timestamp: 91235, length: 9\n",
      "target timestamp: 92116, length: 9\n",
      "target timestamp: 91764, length: 9\n",
      "target timestamp: 56970, length: 9\n",
      "target timestamp: 27346, length: 9\n",
      "target timestamp: 56980, length: 9\n",
      "target timestamp: 26970, length: 9\n",
      "target timestamp: 26399, length: 9\n",
      "target timestamp: 37198, length: 9\n",
      "target timestamp: 26363, length: 9\n",
      "target timestamp: 40818, length: 9\n",
      "target timestamp: 37217, length: 9\n",
      "\n"
     ]
    },
    {
     "name": "stdout",
     "output_type": "stream",
     "text": [
      "i: 211000   source_id_end: 816, source timestamp: 211000, expected: 19600\n",
      "target timestamp: 33953, length: 9\n",
      "target timestamp: 33948, length: 9\n",
      "target timestamp: 33368, length: 9\n",
      "target timestamp: 34573, length: 9\n",
      "target timestamp: 92482, length: 9\n",
      "target timestamp: 33351, length: 9\n",
      "target timestamp: 38197, length: 9\n",
      "target timestamp: 91538, length: 9\n",
      "target timestamp: 91890, length: 9\n",
      "target timestamp: 91009, length: 9\n",
      "target timestamp: 92173, length: 9\n",
      "target timestamp: 56744, length: 9\n",
      "target timestamp: 26173, length: 9\n",
      "target timestamp: 26744, length: 9\n",
      "target timestamp: 38174, length: 9\n",
      "target timestamp: 42434, length: 9\n",
      "target timestamp: 26137, length: 9\n",
      "target timestamp: 56754, length: 9\n",
      "target timestamp: 37585, length: 9\n",
      "target timestamp: 41736, length: 9\n",
      "\n",
      "i: 212000   source_id_end: 818, source timestamp: 212000, expected: 20600\n",
      "target timestamp: 20582, length: 9\n",
      "target timestamp: 88936, length: 9\n",
      "target timestamp: 21210, length: 9\n",
      "target timestamp: 21199, length: 9\n",
      "target timestamp: 68846, length: 9\n",
      "target timestamp: 75963, length: 9\n",
      "target timestamp: 114451, length: 9\n",
      "target timestamp: 22309, length: 9\n",
      "target timestamp: 119252, length: 9\n",
      "target timestamp: 119526, length: 9\n",
      "target timestamp: 139281, length: 9\n",
      "target timestamp: 21753, length: 9\n",
      "target timestamp: 21773, length: 9\n",
      "target timestamp: 22120, length: 9\n",
      "target timestamp: 88783, length: 9\n",
      "target timestamp: 105532, length: 9\n",
      "target timestamp: 105761, length: 9\n",
      "target timestamp: 136924, length: 9\n",
      "target timestamp: 88665, length: 9\n",
      "target timestamp: 149549, length: 9\n",
      "\n",
      "i: 213000   source_id_end: 822, source timestamp: 213000, expected: 21600\n",
      "target timestamp: 21576, length: 9\n",
      "target timestamp: 21923, length: 9\n",
      "target timestamp: 21556, length: 9\n",
      "target timestamp: 87649, length: 9\n",
      "target timestamp: 105335, length: 9\n",
      "target timestamp: 88199, length: 9\n",
      "target timestamp: 87915, length: 9\n",
      "target timestamp: 114254, length: 9\n",
      "target timestamp: 105564, length: 9\n",
      "target timestamp: 119055, length: 9\n",
      "target timestamp: 119329, length: 9\n",
      "target timestamp: 68649, length: 9\n",
      "target timestamp: 113961, length: 9\n",
      "target timestamp: 113682, length: 9\n",
      "target timestamp: 113359, length: 9\n",
      "target timestamp: 21013, length: 9\n",
      "target timestamp: 106132, length: 9\n",
      "target timestamp: 119352, length: 9\n",
      "target timestamp: 87331, length: 9\n",
      "target timestamp: 106456, length: 9\n",
      "\n",
      "i: 214000   source_id_end: 827, source timestamp: 214000, expected: 22600\n",
      "target timestamp: 23152, length: 9\n",
      "target timestamp: 22495, length: 9\n",
      "target timestamp: 22492, length: 9\n",
      "target timestamp: 23166, length: 9\n",
      "target timestamp: 23759, length: 9\n",
      "target timestamp: 23754, length: 9\n",
      "target timestamp: 21940, length: 9\n",
      "target timestamp: 13531, length: 9\n",
      "target timestamp: 147525, length: 9\n",
      "target timestamp: 19501, length: 9\n",
      "target timestamp: 19518, length: 9\n",
      "target timestamp: 18898, length: 9\n",
      "target timestamp: 20184, length: 9\n",
      "target timestamp: 16557, length: 9\n",
      "target timestamp: 13533, length: 9\n",
      "target timestamp: 15329, length: 9\n",
      "target timestamp: 15356, length: 9\n",
      "target timestamp: 15958, length: 9\n",
      "target timestamp: 16550, length: 9\n",
      "target timestamp: 52536, length: 9\n",
      "\n",
      "i: 215000   source_id_end: 829, source timestamp: 215000, expected: 23600\n",
      "target timestamp: 24184, length: 9\n",
      "target timestamp: 23596, length: 9\n",
      "target timestamp: 24189, length: 9\n",
      "target timestamp: 22925, length: 9\n",
      "target timestamp: 22922, length: 9\n",
      "target timestamp: 22370, length: 9\n",
      "target timestamp: 23582, length: 9\n",
      "target timestamp: 13961, length: 9\n",
      "target timestamp: 19328, length: 9\n",
      "target timestamp: 19948, length: 9\n",
      "target timestamp: 19931, length: 9\n",
      "target timestamp: 20614, length: 9\n",
      "target timestamp: 147955, length: 9\n",
      "target timestamp: 16987, length: 9\n",
      "target timestamp: 13963, length: 9\n",
      "target timestamp: 15759, length: 9\n",
      "target timestamp: 15786, length: 9\n",
      "target timestamp: 16388, length: 9\n",
      "target timestamp: 16980, length: 9\n",
      "target timestamp: 52966, length: 9\n",
      "\n",
      "i: 216000   source_id_end: 833, source timestamp: 216000, expected: 24600\n",
      "target timestamp: 87695, length: 9\n",
      "target timestamp: 21969, length: 9\n",
      "target timestamp: 21602, length: 9\n",
      "target timestamp: 21622, length: 9\n",
      "target timestamp: 87961, length: 9\n",
      "target timestamp: 88245, length: 9\n",
      "target timestamp: 105381, length: 9\n",
      "target timestamp: 114007, length: 9\n",
      "target timestamp: 105610, length: 9\n",
      "target timestamp: 113728, length: 9\n",
      "target timestamp: 113405, length: 9\n",
      "target timestamp: 119398, length: 9\n",
      "target timestamp: 87377, length: 9\n",
      "target timestamp: 114300, length: 9\n",
      "target timestamp: 68695, length: 9\n",
      "target timestamp: 119101, length: 9\n",
      "target timestamp: 119375, length: 9\n",
      "target timestamp: 106178, length: 9\n",
      "target timestamp: 21059, length: 9\n",
      "target timestamp: 88632, length: 9\n",
      "\n",
      "i: 217000   source_id_end: 838, source timestamp: 217000, expected: 25600\n",
      "target timestamp: 37020, length: 9\n",
      "target timestamp: 36457, length: 9\n",
      "target timestamp: 37001, length: 9\n",
      "target timestamp: 95228, length: 9\n",
      "target timestamp: 41163, length: 9\n",
      "target timestamp: 97621, length: 9\n",
      "target timestamp: 41195, length: 9\n",
      "target timestamp: 40623, length: 9\n",
      "target timestamp: 37606, length: 9\n",
      "target timestamp: 94385, length: 9\n",
      "target timestamp: 37614, length: 9\n",
      "target timestamp: 40621, length: 9\n",
      "target timestamp: 42463, length: 9\n",
      "target timestamp: 41765, length: 9\n",
      "target timestamp: 26773, length: 9\n",
      "target timestamp: 26166, length: 9\n",
      "target timestamp: 27149, length: 9\n",
      "target timestamp: 26202, length: 9\n",
      "target timestamp: 95506, length: 9\n",
      "target timestamp: 95789, length: 9\n",
      "\n",
      "i: 218000   source_id_end: 840, source timestamp: 218000, expected: 26600\n",
      "target timestamp: 37414, length: 9\n",
      "target timestamp: 37395, length: 9\n",
      "target timestamp: 36851, length: 9\n",
      "target timestamp: 41557, length: 9\n",
      "target timestamp: 41589, length: 9\n",
      "target timestamp: 98015, length: 9\n",
      "target timestamp: 38000, length: 9\n",
      "target timestamp: 41017, length: 9\n",
      "target timestamp: 41015, length: 9\n",
      "target timestamp: 27167, length: 9\n",
      "target timestamp: 26560, length: 9\n",
      "target timestamp: 26596, length: 9\n",
      "target timestamp: 27543, length: 9\n",
      "target timestamp: 38008, length: 9\n",
      "target timestamp: 95900, length: 9\n",
      "target timestamp: 96183, length: 9\n",
      "target timestamp: 42857, length: 9\n",
      "target timestamp: 42159, length: 9\n",
      "target timestamp: 95622, length: 9\n",
      "target timestamp: 38597, length: 9\n",
      "\n",
      "i: 219000   source_id_end: 845, source timestamp: 219000, expected: 27600\n",
      "target timestamp: 26416, length: 9\n",
      "target timestamp: 26987, length: 9\n",
      "target timestamp: 40837, length: 9\n",
      "target timestamp: 41409, length: 9\n",
      "target timestamp: 96003, length: 9\n",
      "target timestamp: 40835, length: 9\n",
      "target timestamp: 26380, length: 9\n",
      "target timestamp: 95720, length: 9\n",
      "target timestamp: 41377, length: 9\n",
      "target timestamp: 97835, length: 9\n",
      "target timestamp: 41979, length: 9\n",
      "target timestamp: 42677, length: 9\n",
      "target timestamp: 95442, length: 9\n",
      "target timestamp: 51057, length: 9\n",
      "target timestamp: 27363, length: 9\n",
      "target timestamp: 37828, length: 9\n",
      "target timestamp: 51581, length: 9\n",
      "target timestamp: 37820, length: 9\n",
      "target timestamp: 51605, length: 9\n",
      "target timestamp: 38417, length: 9\n"
     ]
    }
   ],
   "source": [
    "sims_arr = [[]]\n",
    "curr_times = np.arange(start, end, skip)\n",
    "# curr_times = [start+10000]\n",
    "# num_speedups = 0\n",
    "\n",
    "for i in curr_times:\n",
    "    sims_arr.append(find_matches_at_timestamp(i,n=n, k=k, previous_clusters=previous_clusters, \n",
    "                       permutation=permutation, notes=notes, minNotes=minNotes, \n",
    "                       minTime=minTime, maxNotes=maxNotes, maxTime=maxTime, thresh=thresh, \n",
    "                       timestamp_max_before_source=timestamp_max_before_source, \n",
    "                       zero_penalty=zero_penalty, length_incentive=length_incentive, max_offset=max_offset, \n",
    "                       min_dist_const=min_dist_const, disp=False))"
   ]
  },
  {
   "cell_type": "code",
   "execution_count": 22,
   "id": "4fcb86e8",
   "metadata": {},
   "outputs": [],
   "source": [
    "end = 212060"
   ]
  },
  {
   "cell_type": "code",
   "execution_count": 264,
   "id": "1162043d",
   "metadata": {},
   "outputs": [
    {
     "data": {
      "text/plain": [
       "[[],\n",
       " array([[1.91400000e+05, 1.50830000e+05, 1.22911355e-01, ...,\n",
       "         4.96000000e+02, 8.00000000e+00, 2.18950000e+04],\n",
       "        [1.91400000e+05, 1.50830000e+05, 1.22917970e-01, ...,\n",
       "         4.95000000e+02, 8.00000000e+00, 2.18950000e+04],\n",
       "        [1.91400000e+05, 1.58010000e+05, 1.13910534e-01, ...,\n",
       "         5.40000000e+02, 8.00000000e+00, 2.18950000e+04],\n",
       "        ...,\n",
       "        [1.91400000e+05, 1.69719000e+05, 2.80967680e-01, ...,\n",
       "         6.19000000e+02, 8.00000000e+00, 2.18950000e+04],\n",
       "        [1.91400000e+05, 1.70017000e+05, 2.32954610e-01, ...,\n",
       "         6.18000000e+02, 8.00000000e+00, 2.18950000e+04],\n",
       "        [1.91400000e+05, 1.69719000e+05, 1.58219105e-01, ...,\n",
       "         6.19000000e+02, 8.00000000e+00, 2.18950000e+04]]),\n",
       " array([[1.91410000e+05, 1.50840000e+05, 1.22911355e-01, ...,\n",
       "         4.96000000e+02, 8.00000000e+00, 2.19050000e+04],\n",
       "        [1.91410000e+05, 1.50840000e+05, 1.22917970e-01, ...,\n",
       "         4.95000000e+02, 8.00000000e+00, 2.19050000e+04],\n",
       "        [1.91410000e+05, 1.58020000e+05, 1.13910534e-01, ...,\n",
       "         5.40000000e+02, 8.00000000e+00, 2.19050000e+04],\n",
       "        ...,\n",
       "        [1.91410000e+05, 1.69729000e+05, 2.80967680e-01, ...,\n",
       "         6.19000000e+02, 8.00000000e+00, 2.19050000e+04],\n",
       "        [1.91410000e+05, 1.70027000e+05, 2.32954610e-01, ...,\n",
       "         6.18000000e+02, 8.00000000e+00, 2.19050000e+04],\n",
       "        [1.91410000e+05, 1.69729000e+05, 1.58219105e-01, ...,\n",
       "         6.19000000e+02, 8.00000000e+00, 2.19050000e+04]]),\n",
       " array([[1.91420000e+05, 1.50850000e+05, 1.22911355e-01, ...,\n",
       "         4.96000000e+02, 8.00000000e+00, 2.19150000e+04],\n",
       "        [1.91420000e+05, 1.50850000e+05, 1.22917970e-01, ...,\n",
       "         4.95000000e+02, 8.00000000e+00, 2.19150000e+04],\n",
       "        [1.91420000e+05, 1.58030000e+05, 1.13910534e-01, ...,\n",
       "         5.40000000e+02, 8.00000000e+00, 2.19150000e+04],\n",
       "        ...,\n",
       "        [1.91420000e+05, 1.69739000e+05, 2.80967680e-01, ...,\n",
       "         6.19000000e+02, 8.00000000e+00, 2.19150000e+04],\n",
       "        [1.91420000e+05, 1.70037000e+05, 2.32954610e-01, ...,\n",
       "         6.18000000e+02, 8.00000000e+00, 2.19150000e+04],\n",
       "        [1.91420000e+05, 1.69739000e+05, 1.58219105e-01, ...,\n",
       "         6.19000000e+02, 8.00000000e+00, 2.19150000e+04]])]"
      ]
     },
     "execution_count": 264,
     "metadata": {},
     "output_type": "execute_result"
    }
   ],
   "source": [
    "sims_arr"
   ]
  },
  {
   "cell_type": "code",
   "execution_count": 23,
   "id": "12ab9b29",
   "metadata": {},
   "outputs": [],
   "source": [
    "## choosing only significant scores and storing the new data in sims_plot\n",
    "\n",
    "sarr = []\n",
    "for i in range(len(sims_arr)):\n",
    "    sarr.extend(sims_arr[i])\n",
    "\n",
    "sarr = np.array(sarr)"
   ]
  },
  {
   "cell_type": "code",
   "execution_count": 24,
   "id": "56bb139b",
   "metadata": {},
   "outputs": [],
   "source": [
    "sims_thresh = sarr * (sarr>thresh) # considering a match if score greater than a threshold\n",
    "\n"
   ]
  },
  {
   "cell_type": "code",
   "execution_count": 25,
   "id": "52ee9129",
   "metadata": {},
   "outputs": [],
   "source": [
    "simsDF = pd.DataFrame(data=sims_thresh.copy(), columns=['source_timestamp', 'target_timestamp','score','source_id_start','source_id_end','target_id_start','target_id_end','match_len','match_time'])\n",
    "simsDFall = pd.DataFrame(data=sarr.copy(), columns=['source_timestamp', 'target_timestamp','score','source_id_start','source_id_end','target_id_start','target_id_end','match_len','match_time'])\n"
   ]
  },
  {
   "cell_type": "code",
   "execution_count": 26,
   "id": "0a6db0ba",
   "metadata": {},
   "outputs": [
    {
     "data": {
      "text/plain": [
       "<Axes: title={'center': 'All matches >0.7, for \\nMin Notes=8 notes, Max Notes=8'}, xlabel='source_timestamp', ylabel='target_timestamp'>"
      ]
     },
     "execution_count": 26,
     "metadata": {},
     "output_type": "execute_result"
    },
    {
     "data": {
      "image/png": "[encoded data removed]",
      "text/plain": [
       "<Figure size 700x500 with 1 Axes>"
      ]
     },
     "metadata": {},
     "output_type": "display_data"
    }
   ],
   "source": [
    "# plotting all mathes > threshold score\n",
    "\n",
    "plt.rcParams[\"figure.figsize\"] = [7, 5]\n",
    "plt.rcParams[\"figure.autolayout\"] = True\n",
    "\n",
    "title = \"All matches >\"+str(thresh)+\", for \\nMin Notes=\" + str(minNotes) + \" notes, Max Notes=\" + str(maxNotes)\n",
    "simsDF.plot.scatter(x=\"source_timestamp\", y=\"target_timestamp\", s='score', title=title)\n"
   ]
  },
  {
   "cell_type": "code",
   "execution_count": 27,
   "id": "699d81b0",
   "metadata": {},
   "outputs": [
    {
     "name": "stdout",
     "output_type": "stream",
     "text": [
      "Percentage matches found: 100.0%\n",
      "Percentage matches >0.7 found: 65.2%\n",
      "Percentage matches within 50ms of line: 17.0%\n",
      "Percentage matches >0.7 and within 50ms of the line: 17.0%\n",
      "Minimum score of a \"right match\": 0.82\n"
     ]
    },
    {
     "data": {
      "image/png": "[encoded data removed]",
      "text/plain": [
       "<Figure size 700x500 with 1 Axes>"
      ]
     },
     "metadata": {},
     "output_type": "display_data"
    }
   ],
   "source": [
    "# Plotting best match only\n",
    "\n",
    "percentage_matches_any = 0\n",
    "percentage_matches_thresh = 0\n",
    "percentage_matches_line = 0\n",
    "percentage_matches_thresh_line = 0\n",
    "acc = 50                            #ms accuracy for distance from line\n",
    "\n",
    "plt.rcParams[\"figure.figsize\"] = [7, 5]\n",
    "plt.rcParams[\"figure.autolayout\"] = True\n",
    "bestMatches = []\n",
    "\n",
    "toPlot = simsDFall\n",
    "# toPlot = simsDFall_old\n",
    "\n",
    "total = 0\n",
    "distribution_hist = []\n",
    "distribution_all = []\n",
    "close_matches = []\n",
    "min_good_score = 1\n",
    "for x in range(start,end,skip):\n",
    "    y = toPlot.loc[toPlot['source_timestamp'] == x]['score']\n",
    "    total += 1\n",
    "    if y.any(): \n",
    "        y = y.idxmax()\n",
    "        percentage_matches_any += 1\n",
    "        if toPlot['score'].loc[y] > thresh:\n",
    "            percentage_matches_thresh += 1\n",
    "            if np.abs(toPlot['target_timestamp'].loc[y]-(x-191400))<acc:\n",
    "                percentage_matches_thresh_line += 1\n",
    "        if np.abs(toPlot['target_timestamp'].loc[y]-(x-191400))<acc:\n",
    "            if toPlot['score'].loc[y] < min_good_score:\n",
    "                min_good_score = toPlot['score'].loc[y]\n",
    "            distribution_hist.append((toPlot['target_timestamp'].loc[y]-(x-191400)))\n",
    "            distribution_all.append([x,(toPlot['target_timestamp'].loc[y]-(x-191400))])\n",
    "            percentage_matches_line += 1\n",
    "            close_matches.append(toPlot.loc[y].tolist())\n",
    "    else:\n",
    "        continue\n",
    "#     bestMatch = [toPlot['source_timestamp'].loc[y],toPlot['target_timestamp'].loc[y],toPlot['score'].loc[y],toPlot['source_id_start'].loc[y],toPlot['source_id_end'].loc[y],toPlot['target_id_start'].loc[y],toPlot['target_id_end'].loc[y]]\n",
    "#     bestMatches.append(bestMatch)\n",
    "    plt.scatter(toPlot['source_timestamp'].loc[y],toPlot['target_timestamp'].loc[y],toPlot['score'].loc[y],c='blue')\n",
    "# bestMatches = np.array(bestMatches)\n",
    "# bestMatchesDF = pd.DataFrame(data=bestMatches, columns=[\"source_timestamp\",\"target_timestamp\", \"score\", \"source_id_start\", \"source_id_end\", \"target_id_start\", \"target_id_end\"])   \n",
    "\n",
    "plt.plot(np.arange(170000,400000),np.arange(170000,400000))\n",
    "plt.plot(np.arange(191400,391400),np.arange(200000))\n",
    "percentage_matches_any /= total\n",
    "percentage_matches_thresh /= total\n",
    "percentage_matches_line /= total\n",
    "percentage_matches_thresh_line /= total\n",
    "print(\"Percentage matches found: {:.1f}%\".format(percentage_matches_any*100))\n",
    "print(\"Percentage matches >{:.1f} found: {:.1f}%\".format(thresh,percentage_matches_thresh*100))\n",
    "print(\"Percentage matches within {:d}ms of line: {:.1f}%\".format(acc,percentage_matches_line*100))\n",
    "print(\"Percentage matches >{:.1f} and within {:d}ms of the line: {:.1f}%\".format(thresh,acc,percentage_matches_thresh_line*100))\n",
    "print(\"Minimum score of a \\\"right match\\\": {:.2f}\".format(min_good_score))\n",
    "\n",
    "plt.title(\"Best match for \\nMin Snippet Length=\" + str(minNotes) + \" notes, Max Notes=\" + str(maxNotes))\n",
    "plt.xlabel(\"Source Timestamp (ms)\")\n",
    "plt.ylabel(\"Best Match Timestamp\")\n",
    "plt.show()\n"
   ]
  },
  {
   "cell_type": "code",
   "execution_count": null,
   "id": "4a2cc042",
   "metadata": {},
   "outputs": [],
   "source": []
  },
  {
   "cell_type": "code",
   "execution_count": null,
   "id": "e836e4aa",
   "metadata": {},
   "outputs": [],
   "source": []
  },
  {
   "cell_type": "code",
   "execution_count": null,
   "id": "c55d8756",
   "metadata": {},
   "outputs": [],
   "source": []
  },
  {
   "cell_type": "code",
   "execution_count": null,
   "id": "5559327e",
   "metadata": {},
   "outputs": [],
   "source": []
  },
  {
   "cell_type": "code",
   "execution_count": 220,
   "id": "aef1d99f",
   "metadata": {},
   "outputs": [
    {
     "data": {
      "text/plain": [
       "3"
      ]
     },
     "execution_count": 220,
     "metadata": {},
     "output_type": "execute_result"
    }
   ],
   "source": [
    "n"
   ]
  },
  {
   "cell_type": "code",
   "execution_count": 212,
   "id": "aa41eb20",
   "metadata": {},
   "outputs": [],
   "source": [
    "data = notes[1515:1515+8][:,1]"
   ]
  },
  {
   "cell_type": "code",
   "execution_count": 213,
   "id": "d72de70c",
   "metadata": {},
   "outputs": [],
   "source": [
    "h = tuple(get_hash(data, n, len(data), permutation)[0])"
   ]
  },
  {
   "cell_type": "code",
   "execution_count": 185,
   "id": "f68b18a3",
   "metadata": {},
   "outputs": [],
   "source": [
    "keys = list(previous_clusters.keys())\n",
    "scores = [1 - cosine(cluster, h) for cluster in keys]"
   ]
  },
  {
   "cell_type": "code",
   "execution_count": 186,
   "id": "ce49989f",
   "metadata": {},
   "outputs": [
    {
     "data": {
      "text/plain": [
       "[0.9978076273508656,\n",
       " 0.9325352844172773,\n",
       " 0.8754007185186585,\n",
       " 0.9488907051639058,\n",
       " 0.8665557267034658,\n",
       " 0.8451718708643032,\n",
       " 0.9377508559732469]"
      ]
     },
     "execution_count": 186,
     "metadata": {},
     "output_type": "execute_result"
    }
   ],
   "source": [
    "scores"
   ]
  },
  {
   "cell_type": "code",
   "execution_count": 191,
   "id": "e66bfd9f",
   "metadata": {},
   "outputs": [
    {
     "data": {
      "text/plain": [
       "0"
      ]
     },
     "execution_count": 191,
     "metadata": {},
     "output_type": "execute_result"
    }
   ],
   "source": [
    "ind = scores.index(max(scores))\n",
    "ind"
   ]
  },
  {
   "cell_type": "code",
   "execution_count": 201,
   "id": "414fe1b1",
   "metadata": {},
   "outputs": [],
   "source": [
    "snippets = list(previous_clusters[keys[ind]])"
   ]
  },
  {
   "cell_type": "code",
   "execution_count": 202,
   "id": "ed4d556f",
   "metadata": {},
   "outputs": [
    {
     "data": {
      "text/plain": [
       "4863"
      ]
     },
     "execution_count": 202,
     "metadata": {},
     "output_type": "execute_result"
    }
   ],
   "source": [
    "len(snippets)"
   ]
  },
  {
   "cell_type": "code",
   "execution_count": 203,
   "id": "17174419",
   "metadata": {},
   "outputs": [],
   "source": [
    "scores = [1 - cosine(snippet, h) for _, _, snippet in snippets] # h: hashed_source"
   ]
  },
  {
   "cell_type": "code",
   "execution_count": 204,
   "id": "f859ab2b",
   "metadata": {},
   "outputs": [
    {
     "data": {
      "text/plain": [
       "[490, 711, 4784, 1832, 1693]"
      ]
     },
     "execution_count": 204,
     "metadata": {},
     "output_type": "execute_result"
    }
   ],
   "source": [
    "list(reversed(np.argsort(scores)[-5:]))"
   ]
  },
  {
   "cell_type": "code",
   "execution_count": 209,
   "id": "14751212",
   "metadata": {},
   "outputs": [
    {
     "data": {
      "text/plain": [
       "(788, 9)"
      ]
     },
     "execution_count": 209,
     "metadata": {},
     "output_type": "execute_result"
    }
   ],
   "source": [
    "snippets[490][0], snippets[490][1]"
   ]
  },
  {
   "cell_type": "code",
   "execution_count": 215,
   "id": "b5ca0dc4",
   "metadata": {},
   "outputs": [
    {
     "data": {
      "text/plain": [
       "(787, 10)"
      ]
     },
     "execution_count": 215,
     "metadata": {},
     "output_type": "execute_result"
    }
   ],
   "source": [
    "snippets[711][0], snippets[711][1]"
   ]
  },
  {
   "cell_type": "code",
   "execution_count": 217,
   "id": "7b50e097",
   "metadata": {},
   "outputs": [
    {
     "data": {
      "text/plain": [
       "(912, 10)"
      ]
     },
     "execution_count": 217,
     "metadata": {},
     "output_type": "execute_result"
    }
   ],
   "source": [
    "snippets[4784][0], snippets[4784][1]"
   ]
  },
  {
   "cell_type": "code",
   "execution_count": 218,
   "id": "fbe4a7e1",
   "metadata": {},
   "outputs": [
    {
     "data": {
      "text/plain": [
       "(907, 14)"
      ]
     },
     "execution_count": 218,
     "metadata": {},
     "output_type": "execute_result"
    }
   ],
   "source": [
    "snippets[1832][0], snippets[1832][1]"
   ]
  },
  {
   "cell_type": "code",
   "execution_count": 216,
   "id": "4d75de68",
   "metadata": {},
   "outputs": [
    {
     "data": {
      "text/plain": [
       "(908, 13)"
      ]
     },
     "execution_count": 216,
     "metadata": {},
     "output_type": "execute_result"
    }
   ],
   "source": [
    "snippets[1693][0], snippets[1693][1]"
   ]
  },
  {
   "cell_type": "code",
   "execution_count": 198,
   "id": "fe8434eb",
   "metadata": {},
   "outputs": [
    {
     "data": {
      "text/plain": [
       "array([63, 58, 55, 58, 51, 70, 55, 58])"
      ]
     },
     "execution_count": 198,
     "metadata": {},
     "output_type": "execute_result"
    }
   ],
   "source": [
    "data"
   ]
  },
  {
   "cell_type": "code",
   "execution_count": 210,
   "id": "e031d9c8",
   "metadata": {},
   "outputs": [
    {
     "data": {
      "text/plain": [
       "array([58, 58, 55, 70, 51, 58, 55, 55, 63])"
      ]
     },
     "execution_count": 210,
     "metadata": {},
     "output_type": "execute_result"
    }
   ],
   "source": [
    "notes[788:788+9][:,1]"
   ]
  },
  {
   "cell_type": "code",
   "execution_count": null,
   "id": "452f5f44",
   "metadata": {},
   "outputs": [],
   "source": []
  },
  {
   "cell_type": "code",
   "execution_count": 214,
   "id": "472ac297",
   "metadata": {},
   "outputs": [
    {
     "data": {
      "text/plain": [
       "[(788, 9), (787, 10), (912, 10), (907, 14), (908, 13)]"
      ]
     },
     "execution_count": 214,
     "metadata": {},
     "output_type": "execute_result"
    }
   ],
   "source": [
    "find_from_clusters(h, 5)"
   ]
  },
  {
   "cell_type": "code",
   "execution_count": null,
   "id": "253d7e26",
   "metadata": {},
   "outputs": [],
   "source": []
  },
  {
   "cell_type": "code",
   "execution_count": 156,
   "id": "792849b0",
   "metadata": {},
   "outputs": [
    {
     "data": {
      "text/plain": [
       "array([51, 63, 55, 58, 58, 55, 70, 51, 55, 58, 55, 63, 50, 62, 59, 55])"
      ]
     },
     "execution_count": 156,
     "metadata": {},
     "output_type": "execute_result"
    }
   ],
   "source": [
    "data"
   ]
  },
  {
   "cell_type": "code",
   "execution_count": 152,
   "id": "ff539d73",
   "metadata": {},
   "outputs": [
    {
     "data": {
      "text/plain": [
       "(array([758, 759, 760, 761]),)"
      ]
     },
     "execution_count": 152,
     "metadata": {},
     "output_type": "execute_result"
    }
   ],
   "source": [
    "np.where(abs(notes[:,0] - 191400) < 1000)"
   ]
  },
  {
   "cell_type": "code",
   "execution_count": 154,
   "id": "910217a4",
   "metadata": {},
   "outputs": [
    {
     "data": {
      "text/plain": [
       "array([[171193,     55,     56],\n",
       "       [172336,     60,     56],\n",
       "       [172358,     72,     70],\n",
       "       [191674,     51,     49],\n",
       "       [191677,     63,     47]])"
      ]
     },
     "execution_count": 154,
     "metadata": {},
     "output_type": "execute_result"
    }
   ],
   "source": [
    "notes[755:760]"
   ]
  },
  {
   "cell_type": "code",
   "execution_count": 161,
   "id": "b423b41c",
   "metadata": {},
   "outputs": [
    {
     "data": {
      "text/plain": [
       "array([[362732,     55,     56],\n",
       "       [362741,     75,     60],\n",
       "       [363880,     60,     62],\n",
       "       [363886,     72,     67],\n",
       "       [413583,     51,     46],\n",
       "       [413594,     63,     44],\n",
       "       [414224,     58,     37],\n",
       "       [414242,     55,     39]])"
      ]
     },
     "execution_count": 161,
     "metadata": {},
     "output_type": "execute_result"
    }
   ],
   "source": [
    "notes[1510:1518]"
   ]
  },
  {
   "cell_type": "code",
   "execution_count": null,
   "id": "bd175e21",
   "metadata": {},
   "outputs": [],
   "source": []
  },
  {
   "cell_type": "code",
   "execution_count": 132,
   "id": "e6c1a91e",
   "metadata": {},
   "outputs": [],
   "source": [
    "addToCluster(data1, 100)"
   ]
  },
  {
   "cell_type": "code",
   "execution_count": 133,
   "id": "3029767d",
   "metadata": {},
   "outputs": [],
   "source": [
    "addToCluster(data2, 101)"
   ]
  },
  {
   "cell_type": "code",
   "execution_count": 112,
   "id": "dc0dd1cf",
   "metadata": {},
   "outputs": [
    {
     "data": {
      "text/plain": [
       "{(0.5792819300549311,\n",
       "  0.017784425857862687,\n",
       "  0.13582186738945734,\n",
       "  0.8309345058475656,\n",
       "  0.3999494306967685,\n",
       "  0.04850981430460316,\n",
       "  0.3216284489031633,\n",
       "  0.010875684477941523,\n",
       "  0.016067072877949475,\n",
       "  0.7059162410135207,\n",
       "  0.7452482612999792,\n",
       "  0.019605782081314714,\n",
       "  0.5033124518679725,\n",
       "  0.3923387551735851,\n",
       "  0.023893955132033077,\n",
       "  0.6505012091181848,\n",
       "  0.3278974194187412,\n",
       "  0.03573877001552488,\n",
       "  0.024434642809635792,\n",
       "  0.16552903522409984,\n",
       "  0.06674546165381999,\n",
       "  0.6071556209011668,\n",
       "  0.2752643231462964,\n",
       "  0.19434279046384367,\n",
       "  0.4115570259848446,\n",
       "  0.5675645738617374,\n",
       "  0.6397360279072879,\n",
       "  0.09526398146248224,\n",
       "  0.30359189343579285,\n",
       "  0.3988074453447379,\n",
       "  0.03956717885381143,\n",
       "  0.08840121370317014,\n",
       "  0.530842924660195,\n",
       "  0.5519799277281534,\n",
       "  0.36656803943729405,\n",
       "  0.5056581110283485,\n",
       "  0.17155104674447424,\n",
       "  0.09043982226945275,\n",
       "  0.5898889115643144,\n",
       "  0.018198250560159026,\n",
       "  0.3151991586091907,\n",
       "  0.30687659929394673,\n",
       "  0.14197438633396597,\n",
       "  0.48775688574660925,\n",
       "  0.5668261651777713,\n",
       "  0.001664457412193096,\n",
       "  0.06831209783075227,\n",
       "  0.3803725033938514,\n",
       "  0.2734425265233558,\n",
       "  0.3080980358323545,\n",
       "  0.0035095825589398304,\n",
       "  0.4425824670868621,\n",
       "  0.018309091303240273,\n",
       "  0.4073060961846227,\n",
       "  0.10497712348342407,\n",
       "  0.04356273969977772,\n",
       "  0.08788072948475112,\n",
       "  0.3306078151300435,\n",
       "  0.689035942963407,\n",
       "  0.7055965823656047,\n",
       "  1.0,\n",
       "  0.5208684543543964,\n",
       "  0.2725912839793379,\n",
       "  0.019962203029238634,\n",
       "  0.3503792719704047,\n",
       "  0.5442966379866739,\n",
       "  0.33056390161149224,\n",
       "  0.07368696085547258,\n",
       "  0.595860186813822,\n",
       "  0.031123646671748977,\n",
       "  0.38803687537347964,\n",
       "  0.0312439510820813,\n",
       "  0.4996686571107022,\n",
       "  0.0010876108750035743,\n",
       "  0.5594521472730118,\n",
       "  0.12551013895313365,\n",
       "  0.2779560397470031,\n",
       "  0.6404665084412373,\n",
       "  0.10844183817163452,\n",
       "  0.07653965023592534,\n",
       "  0.1813679007303966,\n",
       "  0.4379015528001351,\n",
       "  0.5229841728375144,\n",
       "  0.8831901158142098,\n",
       "  0.724370435467153,\n",
       "  0.013834630757502372,\n",
       "  0.15459339154612783,\n",
       "  0.09075467355974341,\n",
       "  0.01854540381884562,\n",
       "  0.3355970950857785,\n",
       "  0.5546622314893942,\n",
       "  0.5499905867337274,\n",
       "  0.3957832946242115,\n",
       "  0.5133475481174541,\n",
       "  0.4002240532710325,\n",
       "  0.3816496754895952,\n",
       "  0.03768571118571318,\n",
       "  0.24919921326479424,\n",
       "  0.020321374970460788,\n",
       "  0.6981143004188485,\n",
       "  0.005018104862920433,\n",
       "  0.12359180684254731,\n",
       "  0.08009110042360028,\n",
       "  0.05384414412420254,\n",
       "  0.43339275205829,\n",
       "  0.06248695107140545,\n",
       "  0.017912243707160228,\n",
       "  0.01744026297933781,\n",
       "  0.2373325753741685,\n",
       "  0.01524203181800853,\n",
       "  0.5457599070879317,\n",
       "  0.32504651226425707,\n",
       "  0.25485115717004825,\n",
       "  0.025936882471357083,\n",
       "  0.4744799614144439,\n",
       "  0.19867503110374868,\n",
       "  0.4380793497133095,\n",
       "  0.3731212731167517,\n",
       "  0.5036182578804096,\n",
       "  0.016970716821086394,\n",
       "  0.3855758172696314,\n",
       "  0.5461164500773329,\n",
       "  0.4583207559671499,\n",
       "  0.025986067758108727,\n",
       "  0.48901504368108434,\n",
       "  0.17725334250367433,\n",
       "  0.0043958332086428175,\n",
       "  0.08712189281080333): {(100, 8), (101, 8)}}"
      ]
     },
     "execution_count": 112,
     "metadata": {},
     "output_type": "execute_result"
    }
   ],
   "source": [
    "previous_clusters"
   ]
  },
  {
   "cell_type": "code",
   "execution_count": 64,
   "id": "c889dfcf",
   "metadata": {},
   "outputs": [
    {
     "data": {
      "text/plain": [
       "{(101, 8), 100, 8}"
      ]
     },
     "execution_count": 64,
     "metadata": {},
     "output_type": "execute_result"
    }
   ],
   "source": [
    "k = list(previous_clusters.keys())[0]\n",
    "previous_clusters[k]"
   ]
  },
  {
   "cell_type": "code",
   "execution_count": 115,
   "id": "2d7f7c7e",
   "metadata": {},
   "outputs": [
    {
     "data": {
      "text/plain": [
       "2992"
      ]
     },
     "execution_count": 115,
     "metadata": {},
     "output_type": "execute_result"
    }
   ],
   "source": [
    "len(notes)"
   ]
  },
  {
   "cell_type": "code",
   "execution_count": 125,
   "id": "e43aa50f",
   "metadata": {},
   "outputs": [],
   "source": [
    "data3 = notes[200:208][:,1]"
   ]
  },
  {
   "cell_type": "code",
   "execution_count": 126,
   "id": "77220300",
   "metadata": {},
   "outputs": [
    {
     "data": {
      "text/plain": [
       "(array([55, 51, 67, 53, 65, 60, 56, 56]),\n",
       " array([51, 67, 53, 65, 60, 56, 56, 53]),\n",
       " array([50, 62, 55, 59, 59, 55, 50, 55]))"
      ]
     },
     "execution_count": 126,
     "metadata": {},
     "output_type": "execute_result"
    }
   ],
   "source": [
    "data1, data2, data3"
   ]
  },
  {
   "cell_type": "code",
   "execution_count": 134,
   "id": "c4d76e7e",
   "metadata": {},
   "outputs": [],
   "source": [
    "addToCluster(data3, 200)"
   ]
  },
  {
   "cell_type": "code",
   "execution_count": 135,
   "id": "0618babb",
   "metadata": {},
   "outputs": [
    {
     "data": {
      "text/plain": [
       "2"
      ]
     },
     "execution_count": 135,
     "metadata": {},
     "output_type": "execute_result"
    }
   ],
   "source": [
    "len(previous_clusters.keys())"
   ]
  },
  {
   "cell_type": "code",
   "execution_count": 136,
   "id": "e39a3f02",
   "metadata": {},
   "outputs": [
    {
     "data": {
      "text/plain": [
       "{(0.5792819300549311,\n",
       "  0.017784425857862687,\n",
       "  0.13582186738945734,\n",
       "  0.8309345058475656,\n",
       "  0.3999494306967685,\n",
       "  0.04850981430460316,\n",
       "  0.3216284489031633,\n",
       "  0.010875684477941523,\n",
       "  0.016067072877949475,\n",
       "  0.7059162410135207,\n",
       "  0.7452482612999792,\n",
       "  0.019605782081314714,\n",
       "  0.5033124518679725,\n",
       "  0.3923387551735851,\n",
       "  0.023893955132033077,\n",
       "  0.6505012091181848,\n",
       "  0.3278974194187412,\n",
       "  0.03573877001552488,\n",
       "  0.024434642809635792,\n",
       "  0.16552903522409984,\n",
       "  0.06674546165381999,\n",
       "  0.6071556209011668,\n",
       "  0.2752643231462964,\n",
       "  0.19434279046384367,\n",
       "  0.4115570259848446,\n",
       "  0.5675645738617374,\n",
       "  0.6397360279072879,\n",
       "  0.09526398146248224,\n",
       "  0.30359189343579285,\n",
       "  0.3988074453447379,\n",
       "  0.03956717885381143,\n",
       "  0.08840121370317014,\n",
       "  0.530842924660195,\n",
       "  0.5519799277281534,\n",
       "  0.36656803943729405,\n",
       "  0.5056581110283485,\n",
       "  0.17155104674447424,\n",
       "  0.09043982226945275,\n",
       "  0.5898889115643144,\n",
       "  0.018198250560159026,\n",
       "  0.3151991586091907,\n",
       "  0.30687659929394673,\n",
       "  0.14197438633396597,\n",
       "  0.48775688574660925,\n",
       "  0.5668261651777713,\n",
       "  0.001664457412193096,\n",
       "  0.06831209783075227,\n",
       "  0.3803725033938514,\n",
       "  0.2734425265233558,\n",
       "  0.3080980358323545,\n",
       "  0.0035095825589398304,\n",
       "  0.4425824670868621,\n",
       "  0.018309091303240273,\n",
       "  0.4073060961846227,\n",
       "  0.10497712348342407,\n",
       "  0.04356273969977772,\n",
       "  0.08788072948475112,\n",
       "  0.3306078151300435,\n",
       "  0.689035942963407,\n",
       "  0.7055965823656047,\n",
       "  1.0,\n",
       "  0.5208684543543964,\n",
       "  0.2725912839793379,\n",
       "  0.019962203029238634,\n",
       "  0.3503792719704047,\n",
       "  0.5442966379866739,\n",
       "  0.33056390161149224,\n",
       "  0.07368696085547258,\n",
       "  0.595860186813822,\n",
       "  0.031123646671748977,\n",
       "  0.38803687537347964,\n",
       "  0.0312439510820813,\n",
       "  0.4996686571107022,\n",
       "  0.0010876108750035743,\n",
       "  0.5594521472730118,\n",
       "  0.12551013895313365,\n",
       "  0.2779560397470031,\n",
       "  0.6404665084412373,\n",
       "  0.10844183817163452,\n",
       "  0.07653965023592534,\n",
       "  0.1813679007303966,\n",
       "  0.4379015528001351,\n",
       "  0.5229841728375144,\n",
       "  0.8831901158142098,\n",
       "  0.724370435467153,\n",
       "  0.013834630757502372,\n",
       "  0.15459339154612783,\n",
       "  0.09075467355974341,\n",
       "  0.01854540381884562,\n",
       "  0.3355970950857785,\n",
       "  0.5546622314893942,\n",
       "  0.5499905867337274,\n",
       "  0.3957832946242115,\n",
       "  0.5133475481174541,\n",
       "  0.4002240532710325,\n",
       "  0.3816496754895952,\n",
       "  0.03768571118571318,\n",
       "  0.24919921326479424,\n",
       "  0.020321374970460788,\n",
       "  0.6981143004188485,\n",
       "  0.005018104862920433,\n",
       "  0.12359180684254731,\n",
       "  0.08009110042360028,\n",
       "  0.05384414412420254,\n",
       "  0.43339275205829,\n",
       "  0.06248695107140545,\n",
       "  0.017912243707160228,\n",
       "  0.01744026297933781,\n",
       "  0.2373325753741685,\n",
       "  0.01524203181800853,\n",
       "  0.5457599070879317,\n",
       "  0.32504651226425707,\n",
       "  0.25485115717004825,\n",
       "  0.025936882471357083,\n",
       "  0.4744799614144439,\n",
       "  0.19867503110374868,\n",
       "  0.4380793497133095,\n",
       "  0.3731212731167517,\n",
       "  0.5036182578804096,\n",
       "  0.016970716821086394,\n",
       "  0.3855758172696314,\n",
       "  0.5461164500773329,\n",
       "  0.4583207559671499,\n",
       "  0.025986067758108727,\n",
       "  0.48901504368108434,\n",
       "  0.17725334250367433,\n",
       "  0.0043958332086428175,\n",
       "  0.08712189281080333): {(100, 8), (101, 8)},\n",
       " (0.6102291330534921,\n",
       "  0.11243089072916797,\n",
       "  0.0014748441500731042,\n",
       "  0.84390878904466,\n",
       "  0.45873242698805006,\n",
       "  0.1571253887719155,\n",
       "  0.4190949790218748,\n",
       "  0.023974313864976848,\n",
       "  0.020660713571876998,\n",
       "  0.71939199005093,\n",
       "  0.7850237640100859,\n",
       "  0.6796227258239735,\n",
       "  0.5859392374012345,\n",
       "  0.4432213456718874,\n",
       "  0.8422590507390993,\n",
       "  0.6818962928132439,\n",
       "  0.4464526793588739,\n",
       "  0.8177751203179813,\n",
       "  0.11183843873331072,\n",
       "  0.18929905760754684,\n",
       "  0.0217659425581167,\n",
       "  0.6545158653192344,\n",
       "  0.368758005791707,\n",
       "  0.24074876649465626,\n",
       "  0.5270006124339273,\n",
       "  0.6472368963569054,\n",
       "  0.7000612345559204,\n",
       "  0.19522470144870965,\n",
       "  0.3305037141859858,\n",
       "  0.47524409198730017,\n",
       "  0.0025524292966994967,\n",
       "  0.1727989481508408,\n",
       "  0.6326811920986594,\n",
       "  0.6382435080719835,\n",
       "  0.5127514455949205,\n",
       "  0.5618791528481181,\n",
       "  0.19180177879010982,\n",
       "  0.1555730413953137,\n",
       "  0.6095565926430867,\n",
       "  0.16063884419264166,\n",
       "  0.3439494691807691,\n",
       "  0.3866340809834189,\n",
       "  0.07810451082976526,\n",
       "  0.609479197290924,\n",
       "  0.6838345899124757,\n",
       "  0.007491393347261639,\n",
       "  0.11512468554106291,\n",
       "  0.5046923611811459,\n",
       "  0.27366036148774336,\n",
       "  0.3292314599394829,\n",
       "  0.02349003945785998,\n",
       "  0.5824563740660084,\n",
       "  0.03366243799719947,\n",
       "  0.42846926263003127,\n",
       "  0.04841373316155593,\n",
       "  0.1695740789498764,\n",
       "  0.003473086288859476,\n",
       "  0.3452196573872554,\n",
       "  0.7365373083781857,\n",
       "  0.7455098610630767,\n",
       "  1.0,\n",
       "  0.522031211092502,\n",
       "  0.41448090085683686,\n",
       "  0.15094156435068956,\n",
       "  0.4322253374074011,\n",
       "  0.6749406326739477,\n",
       "  0.4618101215198197,\n",
       "  0.011414084525561334,\n",
       "  0.6088185150683592,\n",
       "  0.012833370164027401,\n",
       "  0.5370568451906863,\n",
       "  0.12628179667132064,\n",
       "  0.6324841296328287,\n",
       "  0.07802846506015026,\n",
       "  0.6572937777703628,\n",
       "  0.01514111670918289,\n",
       "  0.4089039445494382,\n",
       "  0.6834337955551897,\n",
       "  0.2553325783798029,\n",
       "  0.03397730018890727,\n",
       "  0.22217467127937823,\n",
       "  0.4416537059734033,\n",
       "  0.6099279208231961,\n",
       "  0.9026938956681785,\n",
       "  0.7826332468628172,\n",
       "  0.6690143611777317,\n",
       "  0.25625162507817334,\n",
       "  0.11153975760763385,\n",
       "  0.7455989848920289,\n",
       "  0.41805490733701606,\n",
       "  0.6810217809635856,\n",
       "  0.5917801163428891,\n",
       "  0.3983143228782106,\n",
       "  0.6183511853208554,\n",
       "  0.5395034088642914,\n",
       "  0.5198980574758321,\n",
       "  0.02128583312485524,\n",
       "  0.2992875802983386,\n",
       "  0.10209617912857066,\n",
       "  0.7169744217709679,\n",
       "  0.017589490210441087,\n",
       "  0.014289891839809199,\n",
       "  0.001046075238667747,\n",
       "  0.0059783401812358306,\n",
       "  0.4875764536835294,\n",
       "  0.006130877236359325,\n",
       "  0.04782317659789352,\n",
       "  0.07508527315832293,\n",
       "  0.2791700073885582,\n",
       "  0.03559665718490351,\n",
       "  0.6289895561291934,\n",
       "  0.4427439461437728,\n",
       "  0.29540126395693367,\n",
       "  0.04573863123223541,\n",
       "  0.5274498227318428,\n",
       "  0.2977320957286732,\n",
       "  0.5795919220439079,\n",
       "  0.5043497480469649,\n",
       "  0.5801494732474575,\n",
       "  0.028405363548887286,\n",
       "  0.4391516337460094,\n",
       "  0.6259457741150448,\n",
       "  0.49653528607484987,\n",
       "  0.03788037636616063,\n",
       "  0.5477710248682314,\n",
       "  0.2330995002055676,\n",
       "  0.052630630948496154,\n",
       "  0.03395906860428103): {(200, 8)}}"
      ]
     },
     "execution_count": 136,
     "metadata": {},
     "output_type": "execute_result"
    }
   ],
   "source": [
    "previous_clusters"
   ]
  },
  {
   "cell_type": "code",
   "execution_count": null,
   "id": "12542f1b",
   "metadata": {},
   "outputs": [],
   "source": []
  },
  {
   "cell_type": "code",
   "execution_count": null,
   "id": "6f30ef65",
   "metadata": {},
   "outputs": [],
   "source": []
  },
  {
   "cell_type": "code",
   "execution_count": null,
   "id": "d8c3a7a8",
   "metadata": {},
   "outputs": [],
   "source": []
  },
  {
   "cell_type": "code",
   "execution_count": null,
   "id": "20c09f94",
   "metadata": {},
   "outputs": [],
   "source": []
  },
  {
   "cell_type": "code",
   "execution_count": null,
   "id": "50e91dd8",
   "metadata": {},
   "outputs": [],
   "source": [
    "print('ss')"
   ]
  },
  {
   "cell_type": "code",
   "execution_count": 12,
   "id": "de9e2981",
   "metadata": {},
   "outputs": [
    {
     "name": "stdout",
     "output_type": "stream",
     "text": [
      "0.945085782667998\n",
      "[5035   55   45]\n",
      "[197053     50     42]\n",
      "Oops, hashing\n",
      "0.9454654751606593\n",
      "[5035   55   45]\n",
      "[197053     50     42]\n",
      "Oops, hashing\n",
      "0.9454627995115137\n",
      "[5035   55   45]\n",
      "[197053     50     42]\n",
      "Oops, hashing\n",
      "0.945085782667998\n",
      "[5665   71   55]\n",
      "[197053     50     42]\n",
      "Oops, hashing\n",
      "0.9454627942828754\n",
      "[5665   71   55]\n",
      "[197053     50     42]\n",
      "Oops, hashing\n",
      "0.9455245481774678\n",
      "[5665   71   55]\n",
      "[197053     50     42]\n",
      "Oops, hashing\n",
      "0.9454645446893246\n",
      "[6271   55   51]\n",
      "[197640     59     37]\n",
      "Oops, hashing\n",
      "0.9454627942828754\n",
      "[6271   55   51]\n",
      "[197640     59     37]\n",
      "Oops, hashing\n",
      "0.9455245481774678\n",
      "[6271   55   51]\n",
      "[197640     59     37]\n",
      "Oops, hashing\n",
      "0.945085782667998\n",
      "[6819   55   48]\n",
      "[198291     55     46]\n",
      "Oops, hashing\n",
      "0.9454654751606593\n",
      "[6819   55   48]\n",
      "[198291     55     46]\n",
      "Oops, hashing\n",
      "0.9454627942828754\n",
      "[6819   55   48]\n",
      "[198291     55     46]\n",
      "Oops, hashing\n",
      "0.9455245481774678\n",
      "[6819   55   48]\n",
      "[198291     55     46]\n",
      "Oops, hashing\n",
      "0.9450855072832826\n",
      "[7045   62   49]\n",
      "[198504     62     43]\n",
      "Oops, hashing\n",
      "0.9454651992787265\n",
      "[7045   62   49]\n",
      "[198504     62     43]\n",
      "Oops, hashing\n",
      "0.9454625236124665\n",
      "[7045   62   49]\n",
      "[198504     62     43]\n",
      "Oops, hashing\n",
      "0.9455242721682622\n",
      "[7045   62   49]\n",
      "[198504     62     43]\n",
      "Oops, hashing\n",
      "Oops, two way\n",
      "0.9450855072999109\n",
      "[8027   58   36]\n",
      "[199451     55     49]\n",
      "Oops, hashing\n",
      "0.945462518400309\n",
      "[8027   58   36]\n",
      "[199451     55     49]\n",
      "Oops, hashing\n",
      "0.9455242721847169\n",
      "[8027   58   36]\n",
      "[199451     55     49]\n",
      "Oops, hashing\n",
      "0.9455242721847169\n",
      "[8027   58   36]\n",
      "[199451     55     49]\n",
      "Oops, hashing\n",
      "0.9454642688279914\n",
      "[8027   58   36]\n",
      "[199451     55     49]\n",
      "Oops, hashing\n",
      "0.945462518400309\n",
      "[8027   58   36]\n",
      "[199451     55     49]\n",
      "Oops, hashing\n",
      "0.9455242721847169\n",
      "[8027   58   36]\n",
      "[199451     55     49]\n",
      "Oops, hashing\n",
      "0.9455242721847169\n",
      "[8027   58   36]\n",
      "[199451     55     49]\n",
      "Oops, hashing\n",
      "0.9450855176574224\n",
      "[8585   55   49]\n",
      "[200097     58     26]\n",
      "Oops, hashing\n",
      "0.9454652095999683\n",
      "[8585   55   49]\n",
      "[200097     58     26]\n",
      "Oops, hashing\n",
      "0.945462528705413\n",
      "[8585   55   49]\n",
      "[200097     58     26]\n",
      "Oops, hashing\n",
      "0.9455242721847169\n",
      "[8585   55   49]\n",
      "[200097     58     26]\n",
      "Oops, hashing\n",
      "0.9455242721847169\n",
      "[8585   55   49]\n",
      "[200097     58     26]\n",
      "Oops, hashing\n",
      "0.9697491869117171\n",
      "[9236   70   58]\n",
      "[200642     70     53]\n",
      "Oops, hashing\n",
      "0.9696217984746761\n",
      "[9236   70   58]\n",
      "[200642     70     53]\n",
      "Oops, hashing\n",
      "0.9719271786681325\n",
      "[9236   70   58]\n",
      "[200642     70     53]\n",
      "Oops, hashing\n",
      "0.9720644918289408\n",
      "[9236   70   58]\n",
      "[200642     70     53]\n",
      "Oops, hashing\n",
      "0.9450856245896242\n",
      "[9236   70   58]\n",
      "[200642     70     53]\n",
      "Oops, hashing\n",
      "0.9454653166654048\n",
      "[9236   70   58]\n",
      "[200642     70     53]\n",
      "Oops, hashing\n",
      "0.9454626307035149\n",
      "[9236   70   58]\n",
      "[200642     70     53]\n",
      "Oops, hashing\n",
      "0.9455243793010947\n",
      "[9236   70   58]\n",
      "[200642     70     53]\n",
      "Oops, hashing\n",
      "0.9455109498336342\n",
      "[9236   70   58]\n",
      "[200642     70     53]\n",
      "Oops, hashing\n",
      "0.9700425113209908\n",
      "[9846   55   45]\n",
      "[201286     58     33]\n",
      "Oops, hashing\n",
      "Oops, two way\n",
      "0.9696822209312638\n",
      "[9846   55   45]\n",
      "[201286     58     33]\n",
      "Oops, hashing\n",
      "0.9719936185407508\n",
      "[9846   55   45]\n",
      "[201286     58     33]\n",
      "Oops, hashing\n",
      "0.9450856245896242\n",
      "[9846   55   45]\n",
      "[201286     58     33]\n",
      "Oops, hashing\n",
      "0.9454626357799636\n",
      "[9846   55   45]\n",
      "[201286     58     33]\n",
      "Oops, hashing\n",
      "0.9455243793010947\n",
      "[9846   55   45]\n",
      "[201286     58     33]\n",
      "Oops, hashing\n",
      "0.9455243793010947\n",
      "[9846   55   45]\n",
      "[201286     58     33]\n",
      "Oops, hashing\n",
      "0.9455109498336342\n",
      "[9846   55   45]\n",
      "[201286     58     33]\n",
      "Oops, hashing\n"
     ]
    },
    {
     "data": {
      "image/png": "[encoded data removed]",
      "text/plain": [
       "<Figure size 640x480 with 1 Axes>"
      ]
     },
     "metadata": {},
     "output_type": "display_data"
    },
    {
     "data": {
      "image/png": "[encoded data removed]",
      "text/plain": [
       "<Figure size 640x480 with 1 Axes>"
      ]
     },
     "metadata": {},
     "output_type": "display_data"
    }
   ],
   "source": [
    "fig = plt.figure()\n",
    "ax = fig.add_subplot(projection='3d')\n",
    "\n",
    "fig2 = plt.figure()\n",
    "ax2 = fig2.add_subplot(projection='3d')\n",
    "\n",
    "# matches=[]\n",
    "for x in range(5000,10000,500):\n",
    "#     print(x)\n",
    "#     x = 0\n",
    "    for y in range(5000,50000,2000):\n",
    "        t1 = [y+x,0+x] # timestamps in ms\n",
    "        t2 = [191400+y+x,191400+x]\n",
    "#         t2 = [413000+y+x,413000+x]\n",
    "#         t2 = [587000+y+x,587000+x]\n",
    "\n",
    "        tf1 = time_to_sequence(notes, t1)\n",
    "        tf2 = time_to_sequence(notes, t2)\n",
    "\n",
    "#         a,b,c,d,score = musical_similarity(tf1,tf2,True)\n",
    "        a,b,c,d,score = two_way_similarity(tf1,tf2,True)\n",
    "#         print(\"two way score:\", score)\n",
    "#         matches.append([x,y,score])\n",
    "        ax.scatter(x,y,score)\n",
    "    \n",
    "        data1 = np.array(tf1)[:,1]\n",
    "        data2 = np.array(tf2)[:,1]\n",
    "        h1 = get_hash(data1, n, len(data1), permutation)[0]\n",
    "        h2 = get_hash(data2, n, len(data2), permutation)[0]\n",
    "        score2 = 1 - cosine(h1, h2)\n",
    "#         print(\"hash score:\", score2)\n",
    "#         ax2.scatter(x,y,score2)\n",
    "    \n",
    "    \n",
    "        if score<0.8:\n",
    "            print(\"Oops, two way\")\n",
    "        if score2 < 0.99:\n",
    "            print(score2)\n",
    "            print(tf1[0])\n",
    "            print(tf2[0])\n",
    "            print(\"Oops, hashing\")\n",
    "#             a,b,c,d,score = two_way_similarity(tf1,tf2,True)\n",
    "#             display_snippet_plot(notes, time_to_index(notes,t1[0]),time_to_index(notes,t1[1]),time_to_index(notes,t2[0]),time_to_index(notes,t2[1]), score, t1[0], t2[0])\n",
    "    #         play_match(t1[0],t1[1],t2[0],t2[1])\n",
    "    #         predict(notes, time_to_index(notes,t1[0]), time_to_index(notes,t1[1]), time_to_index(notes,t2[0]),time_to_index(notes,t2[1]), tf1[-1][0],pred_time=100,sound=True)\n",
    "    #         time.sleep(2)\n",
    "#         break\n",
    "#     break\n",
    "\n",
    "# plt.scatter3D(matches)\n",
    "# ax.set_xlabel('Start position (ms)')\n",
    "# ax.set_ylabel('Length of snip (ms)')\n",
    "# ax.set_zlabel('Score')\n",
    "# plt.show()\n",
    "\n",
    "# ax2.set_xlabel('Start position (ms)')\n",
    "# ax2.set_ylabel('Length of snip (ms)')\n",
    "# ax2.set_zlabel('Score')\n",
    "# plt.show()"
   ]
  },
  {
   "cell_type": "code",
   "execution_count": null,
   "id": "e1551139",
   "metadata": {},
   "outputs": [],
   "source": []
  },
  {
   "cell_type": "code",
   "execution_count": null,
   "id": "02a4c863",
   "metadata": {},
   "outputs": [],
   "source": []
  },
  {
   "cell_type": "code",
   "execution_count": 286,
   "id": "24c11732",
   "metadata": {},
   "outputs": [],
   "source": [
    "x = 5000\n",
    "y = 5000\n",
    "t1 = [y+x,0+x] # timestamps in ms\n",
    "t2 = [191400+y+x,191400+x]\n",
    "\n",
    "        "
   ]
  },
  {
   "cell_type": "code",
   "execution_count": 287,
   "id": "c0492da1",
   "metadata": {},
   "outputs": [],
   "source": [
    "tf1 = time_to_sequence(notes, t1)"
   ]
  },
  {
   "cell_type": "code",
   "execution_count": 288,
   "id": "ba56cd9d",
   "metadata": {},
   "outputs": [
    {
     "data": {
      "text/plain": [
       "[array([5035,   55,   45]),\n",
       " array([5059,   59,   39]),\n",
       " array([5665,   71,   55]),\n",
       " array([5676,   50,   45]),\n",
       " array([6271,   55,   51]),\n",
       " array([6276,   59,   34]),\n",
       " array([6819,   55,   48]),\n",
       " array([6835,   59,   29]),\n",
       " array([7045,   62,   49]),\n",
       " array([7121,   63,   54]),\n",
       " array([7205,   65,   59]),\n",
       " array([7388,   63,   54]),\n",
       " array([7405,   51,   53]),\n",
       " array([8027,   58,   36]),\n",
       " array([8029,   55,   44]),\n",
       " array([8585,   55,   49]),\n",
       " array([8599,   58,   44]),\n",
       " array([9236,   70,   58]),\n",
       " array([9247,   51,   46]),\n",
       " array([9846,   55,   45]),\n",
       " array([9849,   58,   32])]"
      ]
     },
     "execution_count": 288,
     "metadata": {},
     "output_type": "execute_result"
    }
   ],
   "source": [
    "tf1"
   ]
  },
  {
   "cell_type": "code",
   "execution_count": 290,
   "id": "8fb9514b",
   "metadata": {},
   "outputs": [
    {
     "data": {
      "text/plain": [
       "array([55, 59, 71, 50, 55, 59, 55, 59, 62, 63, 65, 63, 51, 58, 55, 55, 58,\n",
       "       70, 51, 55, 58])"
      ]
     },
     "execution_count": 290,
     "metadata": {},
     "output_type": "execute_result"
    }
   ],
   "source": [
    "np.array(tf1)[:,1]"
   ]
  },
  {
   "cell_type": "code",
   "execution_count": null,
   "id": "052afd97",
   "metadata": {},
   "outputs": [],
   "source": []
  }
 ],
 "metadata": {
  "kernelspec": {
   "display_name": "Python 3 (ipykernel)",
   "language": "python",
   "name": "python3"
  },
  "language_info": {
   "codemirror_mode": {
    "name": "ipython",
    "version": 3
   },
   "file_extension": ".py",
   "mimetype": "text/x-python",
   "name": "python",
   "nbconvert_exporter": "python",
   "pygments_lexer": "ipython3",
   "version": "3.10.9"
  }
 },
 "nbformat": 4,
 "nbformat_minor": 5
}
