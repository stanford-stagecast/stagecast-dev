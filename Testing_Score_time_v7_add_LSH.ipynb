{
 "cells": [
  {
   "cell_type": "code",
   "execution_count": null,
   "id": "6c83f07f",
   "metadata": {},
   "outputs": [],
   "source": [
    "import numpy as np\n",
    "import pandas as pd\n",
    "import matplotlib.pyplot as plt\n",
    "import matplotlib.patches as mpatches\n",
    "\n",
    "# import os\n",
    "import re\n",
    "# import math\n",
    "import time\n",
    "# import timeit\n",
    "\n",
    "import sounddevice as sd\n",
    "from scipy.io import wavfile\n",
    "# import IPython.display as ipd\n",
    "# import soundfile as sf\n",
    "\n",
    "from multiprocess import Pool\n",
    "import functools\n",
    "import pdb\n",
    "\n",
    "import sys\n",
    "sys.path.insert(1, './functions')\n",
    "\n",
    "from workflow import *\n",
    "from read import *\n",
    "from similarity import *\n",
    "from helper import *\n",
    "from display import *"
   ]
  },
  {
   "cell_type": "code",
   "execution_count": null,
   "id": "f0d7807e",
   "metadata": {},
   "outputs": [],
   "source": []
  },
  {
   "cell_type": "code",
   "execution_count": null,
   "id": "36c5fdf0",
   "metadata": {},
   "outputs": [],
   "source": [
    "\n",
    "import sounddevice as sd\n",
    "from scipy.io import wavfile\n",
    "# import IPython.display as ipd\n",
    "# import soundfile as sf\n",
    "\n",
    "from multiprocess import Pool\n",
    "import functools\n",
    "import pdb\n",
    "\n",
    "import sys\n",
    "sys.path.insert(1, './functions')\n",
    "\n",
    "from workflow import *\n",
    "from read import *\n",
    "from similarity import *\n",
    "from helper import *\n",
    "from display import *"
   ]
  },
  {
   "cell_type": "code",
   "execution_count": null,
   "id": "8682380d",
   "metadata": {},
   "outputs": [],
   "source": [
    "# import session_info\n",
    "# session_info.show()"
   ]
  },
  {
   "cell_type": "code",
   "execution_count": null,
   "id": "e09ed180",
   "metadata": {},
   "outputs": [],
   "source": [
    "sd.query_devices()\n",
    "# sd.default.device = 3"
   ]
  },
  {
   "cell_type": "code",
   "execution_count": null,
   "id": "1d732f68",
   "metadata": {},
   "outputs": [],
   "source": []
  },
  {
   "cell_type": "code",
   "execution_count": null,
   "id": "f7e2d66d",
   "metadata": {},
   "outputs": [],
   "source": [
    "samplerate, piano_audio = read_audio('demov2.wav')"
   ]
  },
  {
   "cell_type": "code",
   "execution_count": null,
   "id": "64204c01",
   "metadata": {},
   "outputs": [],
   "source": [
    "sd.play(piano_audio, samplerate)"
   ]
  },
  {
   "cell_type": "code",
   "execution_count": null,
   "id": "a19ec36b",
   "metadata": {},
   "outputs": [],
   "source": [
    "sd.stop()"
   ]
  },
  {
   "cell_type": "code",
   "execution_count": null,
   "id": "f6d90c24",
   "metadata": {},
   "outputs": [],
   "source": [
    "# Testing the above similarity score with different snippets of different playthroughs that \"should\" have a good score\n",
    "\n",
    "midiPath = 'ladispute.txt'\n",
    "notes = midi_to_timeseries(midiPath)\n",
    "\n",
    "fig = plt.figure()\n",
    "ax = fig.add_subplot(projection='3d')\n",
    "\n",
    "# matches=[]\n",
    "for x in range(5000,10000,500):\n",
    "#     print(x)\n",
    "#     x = 0\n",
    "    for y in range(5000,50000,2000):\n",
    "        t1 = [y+x,0+x] # timestamps in ms\n",
    "        t2 = [191400+y+x,191400+x]\n",
    "#         t2 = [413000+y+x,413000+x]\n",
    "#         t2 = [587000+y+x,587000+x]\n",
    "\n",
    "        tf1 = time_to_sequence(notes, t1)\n",
    "        tf2 = time_to_sequence(notes, t2)\n",
    "\n",
    "        a,b,c,d,score = two_way_similarity(tf1,tf2,zero_penalty=1,length_incentive=500000,max_offset=600,min_dist_const=400,disp=True)\n",
    "        print(score)\n",
    "#         matches.append([x,y,score])\n",
    "        ax.scatter(x,y,score)\n",
    "        if score<0.8:\n",
    "            print(\"  Oops\")\n",
    "#             a,b,c,d,score = two_way_similarity(tf1,tf2,zero_penalty=1,length_incentive=500000,max_offset=600,min_dist_const=400,disp=True)\n",
    "#             display_snippet_plot(notes, time_to_index(notes,t1[0]),time_to_index(notes,t1[1]),time_to_index(notes,t2[0]),time_to_index(notes,t2[1]), score, t1[0], t2[0])\n",
    "    #         play_match(piano_audio, t1[0],t1[1],t2[0],t2[1])\n",
    "    #         predict(notes, time_to_index(notes,t1[0]), time_to_index(notes,t1[1]), time_to_index(notes,t2[0]),time_to_index(notes,t2[1]), tf1[-1][0],pred_time=100,sound=True)\n",
    "    #         time.sleep(2)\n",
    "#         break\n",
    "#     break\n",
    "\n",
    "# plt.scatter3D(matches)\n",
    "ax.set_xlabel('Start position (ms)')\n",
    "ax.set_ylabel('Length of snip (ms)')\n",
    "ax.set_zlabel('Score')\n",
    "plt.show()"
   ]
  },
  {
   "cell_type": "code",
   "execution_count": 1,
   "id": "8dc3dfd2",
   "metadata": {},
   "outputs": [],
   "source": [
    "import numpy as np\n",
    "import pandas as pd\n",
    "import matplotlib.pyplot as plt\n",
    "import matplotlib.patches as mpatches\n",
    "\n",
    "# import os\n",
    "import re\n",
    "# import math\n",
    "import time\n",
    "# import timeit\n",
    "\n",
    "import sounddevice as sd\n",
    "from scipy.io import wavfile\n",
    "# import IPython.display as ipd\n",
    "# import soundfile as sf\n",
    "\n",
    "from multiprocess import Pool\n",
    "import functools\n",
    "import pdb\n",
    "\n",
    "import sys\n",
    "sys.path.insert(1, './functions')\n",
    "\n",
    "from workflow import *\n",
    "from read import *\n",
    "from similarity import *\n",
    "from helper import *\n",
    "from display import *"
   ]
  },
  {
   "cell_type": "code",
   "execution_count": 4,
   "id": "494143c3",
   "metadata": {
    "scrolled": false
   },
   "outputs": [],
   "source": [
    "# Setting up parameters to run the matching algorithm\n",
    "\n",
    "midiPath = './midi-recordings/ladispute.txt'\n",
    "notes = midi_to_timeseries(midiPath)\n",
    "\n",
    "# hyperparameters\n",
    "zero_penalty = 1\n",
    "length_incentive = 500000 # 50 seconds yields 10% increase in score\n",
    "max_offset = 600\n",
    "timestamp_max_before_source = 5000 #ms behing the source timestamp\n",
    "min_dist_const = 400 # acceptable time difference for same note\n",
    "initial_alignment = \"last note in source to match in target\"\n",
    "realignment = \"mean offset of notes within max_offset dist - done once\"\n",
    "note_scoring = \"penalize within min_dist\"\n",
    "\n",
    "# parameters\n",
    "minNotes = 8\n",
    "maxNotes = 100 # max length of snippet to be calculated\n",
    "minTime = 1500 # min time in ms\n",
    "maxTime = 30000 # if more matches, increase snippet length\n",
    "thresh = 0.7\n",
    "start = 191400\n",
    "skip = 10\n",
    "# end = 191430\n",
    "end = 365000\n",
    "n = 3\n",
    "k = 1000\n",
    "permutation = [(randint(0, sys.maxsize), randint(0, sys.maxsize)) for i in range(128)]\n",
    "\n",
    "hashed_notes = get_notes_hashes(notes[:,1], n, permutation, minNotes, maxNotes)\n",
    "\n",
    "# fm = functools.partial(find_matches_at_timestamp, n=n, k=k, permutation=permutation, hashed_notes=hashed_notes, notes=notes, minNotes=minNotes, minTime=minTime, maxNotes=maxNotes, \n",
    "#                        maxTime=maxTime, thresh=thresh, timestamp_max_before_source=timestamp_max_before_source, \n",
    "#                        zero_penalty=zero_penalty, length_incentive=length_incentive, max_offset=max_offset, \n",
    "#                        min_dist_const=min_dist_const, disp=False)\n",
    "\n",
    "# sims_arr = find_matches_at_timestamp(i=25000,n=n, k=k, permutation=permutation, hashed_notes=hashed_notes, notes=notes, minNotes=minNotes, minTime=minTime, maxNotes=maxNotes, \n",
    "#                        maxTime=maxTime, thresh=thresh, timestamp_max_before_source=timestamp_max_before_source, \n",
    "#                        zero_penalty=zero_penalty, length_incentive=length_incentive, max_offset=max_offset, \n",
    "#                        min_dist_const=min_dist_const, disp=False)\n",
    "\n",
    "# Running with time allocation to functions - analyse speed and bottlenecks\n",
    "# %prun sims_arr.extend(find_matches_at_timestamp(25000, notes, minNotes, minTime, maxNotes, maxTime, thresh, disp=False))\n"
   ]
  },
  {
   "cell_type": "code",
   "execution_count": null,
   "id": "a12dc5b1",
   "metadata": {},
   "outputs": [],
   "source": [
    "# Running match algorithm serially with target time following\n",
    "\n",
    "# start_time = datetime.datetime.now()\n",
    "\n",
    "sims_arr = [[]]\n",
    "curr_times = np.arange(start, end, skip)\n",
    "# curr_times = [start+10000]\n",
    "# num_speedups = 0\n",
    "\n",
    "for i in curr_times:\n",
    "    sims_arr.append(find_matches_at_timestamp(i,n=n, k=k, permutation=permutation, hashed_notes=hashed_notes, notes=notes, minNotes=minNotes, minTime=minTime, maxNotes=maxNotes, \n",
    "                       maxTime=maxTime, thresh=thresh, timestamp_max_before_source=timestamp_max_before_source, \n",
    "                       zero_penalty=zero_penalty, length_incentive=length_incentive, max_offset=max_offset, \n",
    "                       min_dist_const=min_dist_const, disp=False))\n",
    "\n",
    "sarr = []\n",
    "for i in range(len(sims_arr)):\n",
    "    sarr.extend(sims_arr[i])\n",
    "\n",
    "# end_time = datetime.datetime.now()\n",
    "# timedelta = end_time-start_time\n",
    "# runtime = timedelta.total_seconds()\n",
    "# print(\"Ran in {:.2f} seconds, or {:.2f} minutes\".format(runtime, runtime/60))"
   ]
  },
  {
   "cell_type": "code",
   "execution_count": 10,
   "id": "c4f9c239",
   "metadata": {},
   "outputs": [],
   "source": [
    "source_id_start = 795\n",
    "source_id_end = 787\n",
    "# target_id_start = 689\n",
    "# target_id_end = 547"
   ]
  },
  {
   "cell_type": "code",
   "execution_count": 8,
   "id": "442e4f40",
   "metadata": {},
   "outputs": [
    {
     "data": {
      "text/plain": [
       "38"
      ]
     },
     "execution_count": 8,
     "metadata": {},
     "output_type": "execute_result"
    }
   ],
   "source": [
    "time_to_index(notes, curr_times[0]-191400)"
   ]
  },
  {
   "cell_type": "code",
   "execution_count": 55,
   "id": "5f8e5b40",
   "metadata": {},
   "outputs": [
    {
     "name": "stdout",
     "output_type": "stream",
     "text": [
      "-22169\n",
      "-21896\n"
     ]
    }
   ],
   "source": [
    "print(notes[source_id_end][0]-notes[source_id_start][0])\n",
    "print(notes[target_id_end][0]-notes[target_id_start][0])"
   ]
  },
  {
   "cell_type": "code",
   "execution_count": 11,
   "id": "d74d1a67",
   "metadata": {},
   "outputs": [
    {
     "data": {
      "text/plain": [
       "array([55, 58, 58, 55, 70, 51, 58, 55])"
      ]
     },
     "execution_count": 11,
     "metadata": {},
     "output_type": "execute_result"
    }
   ],
   "source": [
    "sample = notes[source_id_end:source_id_start][:,1]\n",
    "sample"
   ]
  },
  {
   "cell_type": "code",
   "execution_count": 12,
   "id": "d2a9843a",
   "metadata": {},
   "outputs": [],
   "source": [
    "len_of_notes = len(sample)\n",
    "source_hash = get_hash(sample, n, len_of_notes, permutation)[0]\n",
    "target_hash = hashed_notes[len_of_notes - minNotes][:source_id_end]\n",
    "indices = get_k_highest_scores(target_hash, source_hash, k)\n",
    "scores = [1 - cosine(source, source_hash) for source in target_hash]"
   ]
  },
  {
   "cell_type": "code",
   "execution_count": 19,
   "id": "e52d37e0",
   "metadata": {},
   "outputs": [
    {
     "data": {
      "text/plain": [
       "[786, 785, 760, 2, 758, 0, 1, 759, 784, 761]"
      ]
     },
     "execution_count": 19,
     "metadata": {},
     "output_type": "execute_result"
    }
   ],
   "source": [
    "indices[:10]"
   ]
  },
  {
   "cell_type": "code",
   "execution_count": 20,
   "id": "eed799e1",
   "metadata": {},
   "outputs": [
    {
     "data": {
      "text/plain": [
       "(array([58, 55, 55, 58, 70, 51, 55, 58]),\n",
       " array([55, 58, 58, 55, 70, 51, 58, 55]),\n",
       " array([55, 58, 58, 55, 70, 51, 55, 58]))"
      ]
     },
     "execution_count": 20,
     "metadata": {},
     "output_type": "execute_result"
    }
   ],
   "source": [
    "notes[30:38][:,1],notes[source_id_end:source_id_start][:,1], notes[2:10][:,1]"
   ]
  },
  {
   "cell_type": "code",
   "execution_count": 50,
   "id": "876a3f08",
   "metadata": {},
   "outputs": [
    {
     "data": {
      "text/plain": [
       "(0.5716657941707142, 0.6257660380965593)"
      ]
     },
     "execution_count": 50,
     "metadata": {},
     "output_type": "execute_result"
    }
   ],
   "source": [
    "scores[147], scores[547]"
   ]
  },
  {
   "cell_type": "code",
   "execution_count": null,
   "id": "cc6bfc8f",
   "metadata": {},
   "outputs": [],
   "source": [
    "source_id_start = 758\n",
    "source_id_end = 750\n",
    "two_way_similarity(notes[source_id_end:source_id_start], notes[547:758],zero_penalty=zero_penalty,length_incentive=length_incentive,max_offset=max_offset,min_dist_const=min_dist_const,disp=True)\n"
   ]
  },
  {
   "cell_type": "code",
   "execution_count": 68,
   "id": "54248f94",
   "metadata": {},
   "outputs": [],
   "source": [
    "# for x in indices:\n",
    "#     if x > 740: continue\n",
    "#     lm1,lm2,mo1,mo2,score = two_way_similarity(notes[source_id_end:source_id_start], notes[x:x+8],zero_penalty=zero_penalty,length_incentive=length_incentive,max_offset=max_offset,min_dist_const=min_dist_const,disp=True)\n",
    "#     if score > 0.5:\n",
    "#         print(x, score)\n",
    "notes[source_id_end:source_id_start][:,1], notes[547:758][:,1]\n",
    "np.where(notes[:,1] == 48)[0]\n",
    "\n",
    "\n"
   ]
  },
  {
   "cell_type": "code",
   "execution_count": 34,
   "id": "2f5e18d9",
   "metadata": {},
   "outputs": [
    {
     "data": {
      "text/plain": [
       "array([48, 51, 55, 60, 55, 51, 51, 87])"
      ]
     },
     "execution_count": 34,
     "metadata": {},
     "output_type": "execute_result"
    }
   ],
   "source": [
    "notes[:,1][1244:1244+8]"
   ]
  },
  {
   "cell_type": "code",
   "execution_count": 30,
   "id": "549e0061",
   "metadata": {},
   "outputs": [
    {
     "data": {
      "text/plain": [
       "array([79, 79, 55, 67, 55, 79, 84, 48])"
      ]
     },
     "execution_count": 30,
     "metadata": {},
     "output_type": "execute_result"
    }
   ],
   "source": [
    "notes[:,1][675:675+8]"
   ]
  },
  {
   "cell_type": "code",
   "execution_count": null,
   "id": "9c78b604",
   "metadata": {},
   "outputs": [],
   "source": [
    "# display_snippet_plot_2(notes[source_id_end:source_id_start],notes[675:675+8],notes[source_id_start][0],notes[675+8][0],score=0,time_ratio=1)\n",
    "display_snippet_plot(notes, source_id_start, source_id_end, 287, 287-8, 0, notes[source_id_start][0]-20500, notes[287][0])\n",
    "two\n"
   ]
  },
  {
   "cell_type": "raw",
   "id": "c97fa8f7",
   "metadata": {},
   "source": [
    "len_of_notes = len(sample)\n",
    "len_of_notes"
   ]
  },
  {
   "cell_type": "code",
   "execution_count": null,
   "id": "de553917",
   "metadata": {},
   "outputs": [],
   "source": [
    "source_hash = get_hash(sample, n, len_of_notes, permutation)[0]\n",
    "len(source_hash)"
   ]
  },
  {
   "cell_type": "code",
   "execution_count": null,
   "id": "9096e64b",
   "metadata": {},
   "outputs": [],
   "source": [
    "target_hash = hashed_notes[len_of_notes - minNotes][:source_id_end]\n",
    "len(target_hash)"
   ]
  },
  {
   "cell_type": "code",
   "execution_count": null,
   "id": "904820c0",
   "metadata": {},
   "outputs": [],
   "source": [
    "from scipy.spatial.distance import cosine\n",
    "scores = [1 - cosine(source, source_hash) for source in target_hash]"
   ]
  },
  {
   "cell_type": "code",
   "execution_count": null,
   "id": "08d220a2",
   "metadata": {},
   "outputs": [],
   "source": [
    "scores[749]"
   ]
  },
  {
   "cell_type": "code",
   "execution_count": null,
   "id": "e85e6da6",
   "metadata": {},
   "outputs": [],
   "source": [
    "indices = get_k_highest_scores(target_hash, source_hash, k)"
   ]
  },
  {
   "cell_type": "code",
   "execution_count": null,
   "id": "d465fa29",
   "metadata": {
    "scrolled": true
   },
   "outputs": [],
   "source": [
    "# Running match algorithm parallely\n",
    "\n",
    "fm(25000)\n",
    "\n",
    "sims_arr = []\n",
    "curr_times = np.arange(start, end, skip)\n",
    "\n",
    "with Pool(4) as p:\n",
    "    sims_arr = p.map(fm, curr_times)\n",
    "\n",
    "# storing matches as array of all matches\n",
    "sarr = []\n",
    "for i in range(len(sims_arr)):\n",
    "    sarr.extend(sims_arr[i])"
   ]
  },
  {
   "cell_type": "code",
   "execution_count": 4,
   "id": "4e1d48b2",
   "metadata": {},
   "outputs": [
    {
     "name": "stdout",
     "output_type": "stream",
     "text": [
      "i: 191400   source_id_start:758, source_id_end:750, target_id_start:689, target_id_end:547\n",
      "source_id_start:758, source_id_end:750, target_id_start:690, target_id_end:548\n",
      "returning [[191400, 178584, 0.57679350625, 758, 750, 758, 547], [191400, 178754, 0.6304624474999999, 758, 750, 758, 548]]\n",
      "[[1.91400000e+05 1.78584000e+05 5.76793506e-01 7.58000000e+02\n",
      "  7.50000000e+02 7.58000000e+02 5.47000000e+02 8.00000000e+00\n",
      "  2.18950000e+04]\n",
      " [1.91400000e+05 1.78754000e+05 6.30462447e-01 7.58000000e+02\n",
      "  7.50000000e+02 7.58000000e+02 5.48000000e+02 8.00000000e+00\n",
      "  2.18950000e+04]]\n"
     ]
    }
   ],
   "source": [
    "# simsDF_1 = simsDF_old\n",
    "# simsDFall_1 = simsDFall_old\n",
    "# simsDF_2 = simsDF_old\n",
    "# simsDFall_2 = simsDFall_old\n",
    "# simsDF_old = simsDF\n",
    "# simsDFall_old = simsDFall\n",
    "curr_times = np.arange(start, end, skip)\n",
    "for i in curr_times:\n",
    "    print(find_matches_at_timestamp(i,n=n, k=k, permutation=permutation, hashed_notes=hashed_notes, notes=notes, minNotes=minNotes, minTime=minTime, maxNotes=maxNotes, \n",
    "                       maxTime=maxTime, thresh=thresh, timestamp_max_before_source=timestamp_max_before_source, \n",
    "                       zero_penalty=zero_penalty, length_incentive=length_incentive, max_offset=max_offset, \n",
    "                       min_dist_const=min_dist_const, disp=False))"
   ]
  },
  {
   "cell_type": "code",
   "execution_count": 8,
   "id": "fee3b079",
   "metadata": {},
   "outputs": [
    {
     "data": {
      "text/plain": [
       "list"
      ]
     },
     "execution_count": 8,
     "metadata": {},
     "output_type": "execute_result"
    }
   ],
   "source": [
    "type(sarr)"
   ]
  },
  {
   "cell_type": "code",
   "execution_count": 9,
   "id": "2a60bd0e",
   "metadata": {},
   "outputs": [],
   "source": [
    "## choosing only significant scores and storing the new data in sims_plot\n",
    "\n",
    "# sarr = np.array(sims_arr)\n",
    "sarr = np.array(sarr)\n",
    "sims_thresh = sarr * (sarr>thresh) # considering a match if score greater than a threshold\n",
    "\n",
    "simsDF = pd.DataFrame(data=sims_thresh.copy(), columns=['source_timestamp', 'target_timestamp','score','source_id_start','source_id_end','target_id_start','target_id_end','match_len','match_time'])\n",
    "simsDFall = pd.DataFrame(data=sarr.copy(), columns=['source_timestamp', 'target_timestamp','score','source_id_start','source_id_end','target_id_start','target_id_end','match_len','match_time'])\n"
   ]
  },
  {
   "cell_type": "code",
   "execution_count": null,
   "id": "a79724a4",
   "metadata": {},
   "outputs": [],
   "source": [
    "sims_thresh"
   ]
  },
  {
   "cell_type": "code",
   "execution_count": 10,
   "id": "e4269d6a",
   "metadata": {},
   "outputs": [
    {
     "data": {
      "text/plain": [
       "<Axes: title={'center': 'All matches >0.7, for \\nMin Notes=8 notes, Max Notes=100'}, xlabel='source_timestamp', ylabel='target_timestamp'>"
      ]
     },
     "execution_count": 10,
     "metadata": {},
     "output_type": "execute_result"
    },
    {
     "data": {
      "image/png": "[encoded data removed]",
      "text/plain": [
       "<Figure size 700x500 with 1 Axes>"
      ]
     },
     "metadata": {},
     "output_type": "display_data"
    }
   ],
   "source": [
    "# plotting all mathes > threshold score\n",
    "\n",
    "plt.rcParams[\"figure.figsize\"] = [7, 5]\n",
    "plt.rcParams[\"figure.autolayout\"] = True\n",
    "\n",
    "title = \"All matches >\"+str(thresh)+\", for \\nMin Notes=\" + str(minNotes) + \" notes, Max Notes=\" + str(maxNotes)\n",
    "simsDF.plot.scatter(x=\"source_timestamp\", y=\"target_timestamp\", s='score', title=title)\n"
   ]
  },
  {
   "cell_type": "code",
   "execution_count": 11,
   "id": "e5a584ec",
   "metadata": {
    "scrolled": false
   },
   "outputs": [
    {
     "name": "stdout",
     "output_type": "stream",
     "text": [
      "Percentage matches found: 100.0%\n",
      "Percentage matches >0.7 found: 93.1%\n",
      "Percentage matches within 50ms of line: 58.4%\n",
      "Percentage matches >0.7 and within 50ms of the line: 57.0%\n",
      "Minimum score of a \"right match\": 0.43\n"
     ]
    },
    {
     "data": {
      "image/png": "[encoded data removed]",
      "text/plain": [
       "<Figure size 700x500 with 1 Axes>"
      ]
     },
     "metadata": {},
     "output_type": "display_data"
    }
   ],
   "source": [
    "# Plotting best match only\n",
    "\n",
    "percentage_matches_any = 0\n",
    "percentage_matches_thresh = 0\n",
    "percentage_matches_line = 0\n",
    "percentage_matches_thresh_line = 0\n",
    "acc = 50                            #ms accuracy for distance from line\n",
    "\n",
    "plt.rcParams[\"figure.figsize\"] = [7, 5]\n",
    "plt.rcParams[\"figure.autolayout\"] = True\n",
    "bestMatches = []\n",
    "\n",
    "toPlot = simsDFall\n",
    "# toPlot = simsDFall_old\n",
    "\n",
    "total = 0\n",
    "distribution_hist = []\n",
    "distribution_all = []\n",
    "close_matches = []\n",
    "min_good_score = 1\n",
    "for x in range(start,end,skip):\n",
    "    y = toPlot.loc[toPlot['source_timestamp'] == x]['score']\n",
    "    total += 1\n",
    "    if y.any(): \n",
    "        y = y.idxmax()\n",
    "        percentage_matches_any += 1\n",
    "        if toPlot['score'].loc[y] > thresh:\n",
    "            percentage_matches_thresh += 1\n",
    "            if np.abs(toPlot['target_timestamp'].loc[y]-(x-191400))<acc:\n",
    "                percentage_matches_thresh_line += 1\n",
    "        if np.abs(toPlot['target_timestamp'].loc[y]-(x-191400))<acc:\n",
    "            if toPlot['score'].loc[y] < min_good_score:\n",
    "                min_good_score = toPlot['score'].loc[y]\n",
    "            distribution_hist.append((toPlot['target_timestamp'].loc[y]-(x-191400)))\n",
    "            distribution_all.append([x,(toPlot['target_timestamp'].loc[y]-(x-191400))])\n",
    "            percentage_matches_line += 1\n",
    "            close_matches.append(toPlot.loc[y].tolist())\n",
    "    else:\n",
    "        continue\n",
    "#     bestMatch = [toPlot['source_timestamp'].loc[y],toPlot['target_timestamp'].loc[y],toPlot['score'].loc[y],toPlot['source_id_start'].loc[y],toPlot['source_id_end'].loc[y],toPlot['target_id_start'].loc[y],toPlot['target_id_end'].loc[y]]\n",
    "#     bestMatches.append(bestMatch)\n",
    "    plt.scatter(toPlot['source_timestamp'].loc[y],toPlot['target_timestamp'].loc[y],toPlot['score'].loc[y],c='blue')\n",
    "# bestMatches = np.array(bestMatches)\n",
    "# bestMatchesDF = pd.DataFrame(data=bestMatches, columns=[\"source_timestamp\",\"target_timestamp\", \"score\", \"source_id_start\", \"source_id_end\", \"target_id_start\", \"target_id_end\"])   \n",
    "\n",
    "plt.plot(np.arange(170000,400000),np.arange(170000,400000))\n",
    "plt.plot(np.arange(191400,391400),np.arange(200000))\n",
    "percentage_matches_any /= total\n",
    "percentage_matches_thresh /= total\n",
    "percentage_matches_line /= total\n",
    "percentage_matches_thresh_line /= total\n",
    "print(\"Percentage matches found: {:.1f}%\".format(percentage_matches_any*100))\n",
    "print(\"Percentage matches >{:.1f} found: {:.1f}%\".format(thresh,percentage_matches_thresh*100))\n",
    "print(\"Percentage matches within {:d}ms of line: {:.1f}%\".format(acc,percentage_matches_line*100))\n",
    "print(\"Percentage matches >{:.1f} and within {:d}ms of the line: {:.1f}%\".format(thresh,acc,percentage_matches_thresh_line*100))\n",
    "print(\"Minimum score of a \\\"right match\\\": {:.2f}\".format(min_good_score))\n",
    "\n",
    "plt.title(\"Best match for \\nMin Snippet Length=\" + str(minNotes) + \" notes, Max Notes=\" + str(maxNotes))\n",
    "plt.xlabel(\"Source Timestamp (ms)\")\n",
    "plt.ylabel(\"Best Match Timestamp\")\n",
    "plt.show()\n"
   ]
  },
  {
   "cell_type": "code",
   "execution_count": 12,
   "id": "659f0143",
   "metadata": {},
   "outputs": [
    {
     "name": "stdout",
     "output_type": "stream",
     "text": [
      "Distribution Mean:-2.04\n",
      "Distribution Standad Deviation:19.40\n"
     ]
    },
    {
     "data": {
      "image/png": "[encoded data removed]",
      "text/plain": [
       "<Figure size 700x500 with 1 Axes>"
      ]
     },
     "metadata": {},
     "output_type": "display_data"
    }
   ],
   "source": [
    "# also plot histogram\n",
    "mean = np.mean(distribution_hist)\n",
    "std = np.std(distribution_hist)\n",
    "print(\"Distribution Mean:{:.2f}\".format(mean))\n",
    "print(\"Distribution Standad Deviation:{:.2f}\".format(std))\n",
    "plt.hist(distribution_hist,bins=int(max(distribution_hist)-min(distribution_hist)))\n",
    "plt.title(\"Histogram of time difference from expected\")\n",
    "plt.xlabel(\"Time difference (ms)\")\n",
    "plt.ylabel(\"Frequency\")\n",
    "plt.show()"
   ]
  },
  {
   "cell_type": "code",
   "execution_count": 13,
   "id": "608e70f3",
   "metadata": {},
   "outputs": [
    {
     "name": "stdout",
     "output_type": "stream",
     "text": [
      "Distribution Mean:5.05\n",
      "Distribution Standad Deviation:29.32\n"
     ]
    },
    {
     "data": {
      "image/png": "[encoded data removed]",
      "text/plain": [
       "<Figure size 700x500 with 1 Axes>"
      ]
     },
     "metadata": {},
     "output_type": "display_data"
    }
   ],
   "source": [
    "# Note distribution in first vs second playthrough\n",
    "\n",
    "note_distribution_hist = []\n",
    "for note in notes[time_to_index(notes,start):time_to_index(notes,end)]:\n",
    "    # find closest note in history\n",
    "    note2 = find_note(notes, note[0]-191400, note[1], max_time_dist = 100)\n",
    "    if note2:\n",
    "        note_distribution_hist.append(note[0]-notes[note2][0]-191400)\n",
    "    \n",
    "mean = np.mean(note_distribution_hist)\n",
    "std = np.std(note_distribution_hist)\n",
    "print(\"Distribution Mean:{:.2f}\".format(mean))\n",
    "print(\"Distribution Standad Deviation:{:.2f}\".format(std))\n",
    "plt.hist(note_distribution_hist,bins=int(max(note_distribution_hist)-min(note_distribution_hist)))\n",
    "plt.title(\"Histogram of actual note deviation accross performances\")\n",
    "plt.xlabel(\"Time difference (ms)\")\n",
    "plt.ylabel(\"Frequency\")\n",
    "plt.show()"
   ]
  },
  {
   "cell_type": "code",
   "execution_count": null,
   "id": "7406501b",
   "metadata": {
    "scrolled": false
   },
   "outputs": [],
   "source": [
    "#['source_timestamp', 'target_timestamp','score','source_id_start','source_id_end','target_id_start','target_id_end','match_len','match_time']\n",
    "k = 1\n",
    "\n",
    "# dtype = [('source_timestamp', float), ('target_timestamp', float), ('score', float),('source_id_start', float),\\\n",
    "#          ('source_id_end', float),('target_id_start', float),('target_id_end', float),('match_len', float),('match_time', float)]\n",
    "\n",
    "close_matches_array = np.array(close_matches)\n",
    "distribution_hist_array = np.array(distribution_hist)\n",
    "print(close_matches_array.shape)\n",
    "close_matches_df = pd.DataFrame(data = close_matches_array, columns=['source_timestamp', 'target_timestamp','score','source_id_start','source_id_end','target_id_start','target_id_end','match_len','match_time'])\n",
    "close_matches_df['deviation'] = distribution_hist_array\n",
    "\n",
    "close_matches_sorted = close_matches_df.sort_values(by=['deviation'])\n",
    "\n",
    "worst_matches = np.array(close_matches_sorted.iloc[-k:],dtype=float)\n",
    "\n",
    "print(close_matches_df.iloc[0])\n",
    "print(worst_matches.shape)\n",
    "print(worst_matches.astype(int))\n",
    "for match in worst_matches:\n",
    "    print(match.astype(int))\n",
    "    source_start = int(match[0])\n",
    "    target_start = int(match[1])\n",
    "    score = match[2]\n",
    "    source_id_start = int(match[3])\n",
    "    source_id_end = int(match[4])\n",
    "    target_id_start = int(match[5])\n",
    "    target_id_end = int(match[6])\n",
    "    match_len = int(match[7])\n",
    "    match_time = int(match[8])\n",
    "    \n",
    "    # plot worst match (in terms of distance from expected timestamp)\n",
    "    diff = source_start - target_start\n",
    "    sequence1 = np.copy(notes[source_id_end:source_id_start+3])\n",
    "    sequence1[:,0] = sequence1[:,0]-diff\n",
    "    sequence2 = np.copy(notes[target_id_end:target_id_start+3])\n",
    "    sequence2[:,0] = sequence2[:,0]\n",
    "    sequence3 = sequence2.copy()\n",
    "    sequence3[:,0] = sequence2[:,0]-diff+191400\n",
    "    \n",
    "    display_expected_actual(sequence1,sequence2,source_start,target_start,source_start-diff,target_start,source_start-191400,diff,score,match_time,l1=\"Source\",l2=\"Matching Target\",l3=\"Expected Target\")\n",
    "    display_expected_actual(sequence1,sequence3,source_start,target_start,source_start-191400,source_start-191400,target_start,diff,score,match_time,l1=\"Source\",l2=\"Expected Target\",l3=\"Matching Target\")\n",
    "    \n",
    "    a = notes[source_id_start-2:source_id_start+3]\n",
    "    b = notes[target_id_start-2:target_id_start+3]\n",
    "    print(\"Source end notes:\\n\",a)\n",
    "    print(\"Source end notes - 191400:\",a[:,0] - 191400)\n",
    "    print(\"Target end notes:\\n\",b)\n",
    "    print(\"Source diff between notes:\",a[1:,0] - a[:-1,0])\n",
    "    print(\"Target diff between notes:\",b[1:,0] - b[:-1,0])\n",
    "    print(\"Source time - last note:\",match[0]-notes[int(match[3])-1][0])\n",
    "    print(\"Target time - last note:\",match[1]-notes[int(match[5])-1][0])\n",
    "    print()"
   ]
  },
  {
   "cell_type": "code",
   "execution_count": null,
   "id": "dab5dbde",
   "metadata": {},
   "outputs": [],
   "source": [
    "# Plotting diff vs source time\n",
    "\n",
    "distribution_all_arr = np.array(distribution_all)\n",
    "plt.plot(distribution_all_arr[:,0],distribution_all_arr[:,1])\n",
    "plt.xlabel(\"Source Timestamp (ms)\")\n",
    "plt.ylabel(\"Target Timestamp Deviation from Expected (ms)\")\n",
    "plt.title(\"Plot showing time difference betweeen Best Match and Expected Match for every source time in second playthrough\")\n",
    "plt.show()"
   ]
  },
  {
   "cell_type": "code",
   "execution_count": null,
   "id": "019707e7",
   "metadata": {},
   "outputs": [],
   "source": [
    "# Plotting diff vs source time - within a range\n",
    "\n",
    "source_time = 275000\n",
    "index = (source_time - start)//skip\n",
    "# index -= 1500\n",
    "len_match = 500\n",
    "\n",
    "# Getting match details near source time we're interested in\n",
    "# Can use this to make display_snippet plots\n",
    "# matches_near_source = np.array(close_matches_df.iloc[index:index+500])\n",
    "\n",
    "distribution_all_arr = np.array(distribution_all)\n",
    "plt.plot(distribution_all_arr[index:index+len_match,0],distribution_all_arr[index:index+len_match,1])\n",
    "plt.xlabel(\"Source Timestamp (ms)\")\n",
    "plt.ylabel(\"Target Timestamp Deviation from Expected (ms)\")\n",
    "plt.title(\"Plot showing time difference betweeen Best Match and Expected Match\")\n",
    "plt.show()"
   ]
  },
  {
   "cell_type": "code",
   "execution_count": null,
   "id": "30cc66b2",
   "metadata": {},
   "outputs": [],
   "source": [
    "pop_a = mpatches.Patch(color='blue', label='Unexpected match')\n",
    "pop_b = mpatches.Patch(color='orange', label='On the line match')"
   ]
  },
  {
   "cell_type": "code",
   "execution_count": null,
   "id": "c71fa4b5",
   "metadata": {
    "scrolled": false
   },
   "outputs": [],
   "source": [
    "# Plotting best match score \n",
    "\n",
    "plt.rcParams[\"figure.figsize\"] = [10, 3.50]\n",
    "plt.rcParams[\"figure.autolayout\"] = True\n",
    "\n",
    "count = 0\n",
    "for x in curr_times:\n",
    "    y = simsDFall.loc[simsDFall['source_timestamp'] == x]['score'].max()\n",
    "    s = simsDFall.loc[(simsDFall['source_timestamp'] == x) & (simsDFall['score'] == y)]['match_len'].max()\n",
    "#     print(s)\n",
    "    if np.isnan(y):\n",
    "        count += 1\n",
    "        y = 0\n",
    "    else:\n",
    "        if (np.abs(simsDFall.loc[(simsDFall['source_timestamp'] == x) & (simsDFall['score'] == y) & (simsDFall['match_len'] == s)]['target_timestamp']-(x-191400))<100).any():\n",
    "            color = 'orange'\n",
    "        else:\n",
    "            color = 'blue'\n",
    "        plt.scatter(x,y,1,c=color) # need to include s (len of best match)\n",
    "\n",
    "# currDF = simsDFall.copy()\n",
    "# currDF.sort_values(['source_timestamp', 'score', 'match_len'], ascending=[True, False, False]).drop_duplicates(['source_timestamp']).reset_index(drop=True)\n",
    "# plt.scatter(curr_times,currDF.loc[currDF['source_timestamp'] == curr_times]['score'],currDF.loc[currDF['source_timestamp'] == curr_times]['match_len'])\n",
    "# scores = s.max(axis = 0)\n",
    "# # if np.isnan(y):\n",
    "# #     count += 1\n",
    "# #     y = 0\n",
    "    \n",
    "\n",
    "print(count)\n",
    "plt.title(\"Best match score for \\nMin Snippet Length=\" + str(minNotes) + \" notes, Max Notes=\" + str(maxNotes))\n",
    "# plt.colorbar()\n",
    "plt.xlabel(\"Source Timestamp (ms)\")\n",
    "plt.ylabel(\"Best Match Score\")\n",
    "plt.legend(handles=[pop_a,pop_b])\n",
    "plt.show()"
   ]
  },
  {
   "cell_type": "code",
   "execution_count": null,
   "id": "1cf41b47",
   "metadata": {},
   "outputs": [],
   "source": [
    "# Plotting note length of best match  \n",
    "\n",
    "plt.rcParams[\"figure.figsize\"] = [10, 3.50]\n",
    "plt.rcParams[\"figure.autolayout\"] = True\n",
    "\n",
    "count = 0\n",
    "for x in range(start,end,skip):\n",
    "    y = simsDFall.loc[simsDFall['source_timestamp'] == x]['score'].max()\n",
    "    s = simsDFall.loc[(simsDFall['source_timestamp'] == x) & (simsDFall['score'] == y)]['match_len'].max()\n",
    "#     print(s)\n",
    "    if np.isnan(y):\n",
    "        count += 1\n",
    "        y = 0\n",
    "    \n",
    "    if (np.abs(simsDFall.loc[(simsDFall['source_timestamp'] == x) & (simsDFall['score'] == y) & (simsDFall['match_len'] == s)]['target_timestamp']-(x-191400))<100).any():\n",
    "        color = 'orange'\n",
    "    else:\n",
    "        color = 'blue'\n",
    "    plt.scatter(x,s,1,c=color)\n",
    "    \n",
    "# print(count)\n",
    "plt.title(\"Best match length (in notes) for \\nMin Snippet Length=\" + str(minNotes) + \" notes, Max Notes=\" + str(maxNotes))\n",
    "# plt.colorbar()\n",
    "plt.xlabel(\"Source Timestamp (ms)\")\n",
    "plt.ylabel(\"Match Length (#notes)\")\n",
    "plt.legend(handles=[pop_a,pop_b])\n",
    "plt.show()"
   ]
  },
  {
   "cell_type": "code",
   "execution_count": null,
   "id": "54ff964a",
   "metadata": {},
   "outputs": [],
   "source": [
    "# Plotting time length of best match  \n",
    "\n",
    "plt.rcParams[\"figure.figsize\"] = [10, 3.50]\n",
    "plt.rcParams[\"figure.autolayout\"] = True\n",
    "\n",
    "count = 0\n",
    "for x in range(start,end,skip):\n",
    "    y = simsDFall.loc[simsDFall['source_timestamp'] == x]['score'].max()\n",
    "    s = simsDFall.loc[(simsDFall['source_timestamp'] == x) & (simsDFall['score'] == y)]['match_time'].max()\n",
    "#     print(s)\n",
    "    if np.isnan(y):\n",
    "        count += 1\n",
    "        y = 0\n",
    "    if (np.abs(simsDFall.loc[(simsDFall['source_timestamp'] == x) & (simsDFall['score'] == y) & (simsDFall['match_time'] == s)]['target_timestamp']-(x-191400))<100).any():\n",
    "        color = 'orange'\n",
    "    else:\n",
    "        color = 'blue'\n",
    "    plt.scatter(x,s,1,c=color)\n",
    "    \n",
    "# print(count)\n",
    "plt.title(\"Best match length (in time) for \\nMin Snippet Length=\" + str(minNotes) + \" notes, Max Notes=\" + str(maxNotes))\n",
    "# plt.colorbar()\n",
    "plt.xlabel(\"Source Timestamp (ms)\")\n",
    "plt.ylabel(\"Match Length (ms)\")\n",
    "plt.legend(handles=[pop_a,pop_b])\n",
    "plt.show()"
   ]
  },
  {
   "cell_type": "code",
   "execution_count": null,
   "id": "0a637060",
   "metadata": {},
   "outputs": [],
   "source": []
  },
  {
   "cell_type": "code",
   "execution_count": null,
   "id": "395b6387",
   "metadata": {},
   "outputs": [],
   "source": []
  },
  {
   "cell_type": "code",
   "execution_count": null,
   "id": "9ef74a76",
   "metadata": {},
   "outputs": [],
   "source": []
  },
  {
   "cell_type": "code",
   "execution_count": null,
   "id": "533eba4a",
   "metadata": {},
   "outputs": [],
   "source": []
  }
 ],
 "metadata": {
  "kernelspec": {
   "display_name": "Python 3 (ipykernel)",
   "language": "python",
   "name": "python3"
  },
  "language_info": {
   "codemirror_mode": {
    "name": "ipython",
    "version": 3
   },
   "file_extension": ".py",
   "mimetype": "text/x-python",
   "name": "python",
   "nbconvert_exporter": "python",
   "pygments_lexer": "ipython3",
   "version": "3.10.9"
  }
 },
 "nbformat": 4,
 "nbformat_minor": 5
}
